{
 "cells": [
  {
   "cell_type": "markdown",
   "metadata": {},
   "source": [
    "## <p style=\"text-align: center;\">COMP10001 Foundations of Computing<br>Semester 1, 2022<br>Tutorial Questions: Week 4</p>\n",
    "### <p style=\"text-align: center;\">Tutor: Jiyu Chen  ~ *Freddie*</p>\n",
    "\n",
    "#### <p style=\"text-align: center;\">https://<span>github.com/jiyuc/</span>COMP10001_SM1_2022</p>"
   ]
  },
  {
   "cell_type": "markdown",
   "metadata": {},
   "source": [
    "### Q1. What is “Boolean”? What values does it store? Can other types be converted to it?\n",
    "\n",
    "\n",
    "<p>Boolean is a data type which stores a truth value: either <b>True</b> or <b>False</b>. Any other type can be converted to it: for numbers, zero converts to False and any non-zero number converts to True; and for strings and lists an empty sequence converts to False and any non-empty sequence converts to True.</p>"
   ]
  },
  {
   "cell_type": "markdown",
   "metadata": {},
   "source": [
    "#### Relational Operator\n",
    "\n",
    "**Compare** two values to produce a boolean result. They include less than `<`, greater than `>`, less than or equal to `<=`, greater than or equal to `>=`, equal `==` and not equal `!=` The in operator is also a kind of relational operator. e.g.:\n",
    "\n",
    "`3 < 5`\n",
    "\n",
    "`[1,2,3] != None`\n",
    "\n",
    "#### Logical Operator\n",
    "\n",
    "**Combine** Boolean values to return a single Boolean value. They are *and*, *or* and *not*.\n",
    "Order of precedence is Relational operators -> `not`, `and`, and finally `or`. Brackets `()` can clarify order of operations and you are encouraged to use them. e.g.,\n",
    "\n",
    "`if a >= 1 and a <= 5` or using brackets: `if (a >= 1) and (a <= 5)`\n",
    "\n",
    "`if a == 1 or a == 2`\n",
    "\n",
    "`if x[0] not in 'aeiou'`\n",
    "\n",
    "\n",
    "### Q2 For each of the following, identify whether it is: (a) a Boolean value; (b) a relational operator; or (c) a logical operator. (Find the form to fill on the worksheet)\n",
    "| `==`   | <details><summary></summary>Relational</details> | `>`   | <details><summary></summary>Relational</details> | `False` | <details><summary></summary>Boolean</details>    |\n",
    "|------|------------|-----|------------|-------|------------|\n",
    "| `!=`   | <details><summary></summary>Relational</details> | `and` | <details><summary></summary>Logical</details>    | `<=`    | <details><summary></summary>Relational</details> |\n",
    "| `or`   | <details><summary></summary>Logical</details>    | `>=`  | <details><summary></summary>Relational</details> | `not`   | <details><summary></summary>Logical</details>    |\n",
    "| `True` | <details><summary></summary>Boolean</details>    | `<`   | <details><summary></summary>Relational</details> |       |            |\n",
    "\n"
   ]
  },
  {
   "cell_type": "markdown",
   "metadata": {},
   "source": [
    "### Q3. How do we use an `if` statement? What are the variants? How do we know what is contained inside it and what is after?\n",
    "\n",
    "1) An **if statement** is of the form `if <condition>`: where condition can be formed of **relational** and **logical operators**, or anything else you like which can be converted to a **boolean value**. If the condition expression evaluates to True, the code “inside” (indented after) the if statement is run. If not, it is skipped. \n",
    "\n",
    "2) Variants include `elif` and `else` statements following `if`, which catch further conditions if the first conditional statement is not fulfilled. \n",
    "\n",
    "3) Indentation tells us what code belongs inside an `if` statement. e.g.:\n",
    "\n",
    "\n",
    "\n",
    "```\n",
    "x = 0\n",
    "if x:\n",
    " ->|print('if statement executed')\n",
    "    <other codes, within this indentation>\n",
    "else:\n",
    "    print('else statement executed')\n",
    "```\n"
   ]
  },
  {
   "cell_type": "code",
   "execution_count": 18,
   "metadata": {},
   "outputs": [
    {
     "name": "stdout",
     "output_type": "stream",
     "text": [
      "Do you own or rent? haha\n",
      "please input a valid answer\n"
     ]
    }
   ],
   "source": [
    "answer = input('Do you own or rent? ')\n",
    "if not answer or answer not in ['rent', 'own']:\n",
    "    print('please input a valid answer')\n",
    "    \n",
    "elif answer == 'own':\n",
    "    print('Owner!')\n",
    "    \n",
    "else:\n",
    "    print('Renter!')"
   ]
  },
  {
   "cell_type": "markdown",
   "metadata": {},
   "source": [
    "# Exercise 1-2\n",
    "\n",
    "```\n",
    "False and not False or True\n",
    "False and (not False or True)\n",
    "```"
   ]
  },
  {
   "cell_type": "markdown",
   "metadata": {},
   "source": [
    "# Exercise 3\n",
    "## What’s wrong with this code? How can you fix it?\n",
    "```\n",
    "letter = input(\"Enter a letter: \")\n",
    "if letter == 'a' or 'e' or 'i' or 'o' or 'u'::\n",
    "    print(\"vowel\")\n",
    "else:\n",
    "    print(\"consonant\")\n",
    "```"
   ]
  },
  {
   "cell_type": "code",
   "execution_count": null,
   "metadata": {},
   "outputs": [],
   "source": [
    "#TODO"
   ]
  },
  {
   "cell_type": "markdown",
   "metadata": {},
   "source": [
    "# Exercise 4\n",
    "## What’s wrong with this code? How can you fix it?\n",
    "```\n",
    "eggs == 3\n",
    "if eggs = 5:\n",
    "    print(\"spam\")\n",
    "else:\n",
    "    print(\"not spam\")\n",
    "```"
   ]
  },
  {
   "cell_type": "code",
   "execution_count": 19,
   "metadata": {},
   "outputs": [],
   "source": [
    "#TODO"
   ]
  },
  {
   "cell_type": "markdown",
   "metadata": {},
   "source": [
    "### Q4. What is a “Sequence”? What sequences have we seen so far? What operators can we use with sequences?\n",
    "\n",
    "A sequence is a data type which allows us to store a series of objects in a particular order. Strings store sequences of characters while lists and tuples store sequences of any object. \n",
    "\n",
    "**Recall operator overloading**\n",
    "\n",
    "We can use the `*` operator to create copies of the sequence and concatenate them. \n",
    "\n",
    "We can use the `+` operator to concatenate sequences together.\n",
    "\n",
    "```\n",
    "a_tuple = (1,'2',True)\n",
    "\n",
    "a_list = [1,2,3]\n",
    "\n",
    "a_string = \"abc\"\n",
    "\n",
    "```\n",
    "\n",
    "**Why am I using `a_tuple` instead of `tuple` to name my variable?🙋‍♂️🙋**"
   ]
  },
  {
   "cell_type": "code",
   "execution_count": null,
   "metadata": {},
   "outputs": [],
   "source": [
    "#TODO\n",
    "\n",
    "(1,'2',True) * 3"
   ]
  },
  {
   "cell_type": "markdown",
   "metadata": {},
   "source": [
    "### Q5. What is indexing? How can you do it?\n",
    "\n",
    "Indexing means accessing the item stored in a particular (integer) **position** in a sequence. You index using **square brackets** containing the index `[i]` at the end of the variable name or object literal. You can index with positive integers where `0` corresponds to the first item or negative integers where `-1` corresponds to the last item.\n",
    "\n",
    "Take a list of integers for example\n",
    "\n",
    "head ->`['a','b','c','d','e','f','g','h','i','j']`<-tail\n",
    "\n",
    "         0   1   2   3   4   5   6   7   8   9\n",
    "\n",
    "         ^\n",
    "       index == 0\n",
    "                                             ^\n",
    "                                           index == 9 or index == -1\n",
    "\n"
   ]
  },
  {
   "cell_type": "code",
   "execution_count": 21,
   "metadata": {},
   "outputs": [
    {
     "name": "stdout",
     "output_type": "stream",
     "text": [
      "first item: a\n",
      "last item: j\n"
     ]
    }
   ],
   "source": [
    "sequence = ['a','b','c','d','e','f','g','h','i','j']\n",
    "\n",
    "# access the first item in the sequence\n",
    "print(\"first item:\",sequence[0])\n",
    "\n",
    "# access the last item in the sequence\n",
    "print(\"last item:\",sequence[-1]) #or print(sequence[9])\n"
   ]
  },
  {
   "cell_type": "markdown",
   "metadata": {},
   "source": [
    "### Q6. What is slicing? How can you do it?\n",
    "\n",
    "Slicing is like taking an index but rather than only one item, a slice will give you **a subsection of the sequence** consisting typically of more than one item (though you can have an empty slice). Slicing works with two indices `[begining_index: end_index+1]` and takes items from the first to one before the second.\n",
    "\n",
    "A slice can take three integers: **start**, **end** and **step** `[i:j:k]`. The step integer controls the slice step size; Whether every character is included in the slice (k=1), every second character (k=2), and so on. A negative step makes the slice go **backwards**.\n",
    "\n",
    "<span style=\"color:red\">Note: <br>you cannot go from negative to positive, unless the step is `-`;<br>\n",
    "the <b>negative start</b> has to be smaller than <b>negative end</b></span>\n",
    "\n",
    "\n",
    "head ->`items = ['a','b','c','d','e','f','g','h','i','j']`<-tail\n",
    "\n",
    "                 0   1   2   3   4   5   6   7   8   9\n",
    "                -10 -9  -8  -7  -6  -5  -4  -3  -2  -1\n",
    "         \n",
    "         \n",
    "```\n",
    "items[3:8] -> d,e,f,g,h\n",
    "\n",
    "items[3:8:2] -> d,f,h\n",
    "\n",
    "items[-1:1] -> nothing, as your are going from negative to positive\n",
    "\n",
    "items[-3:-5] -> nothing, as your negative start > negative end\n",
    "\n",
    "items[3:-4:-1] -> d,c,b,a,j,i,h\n",
    "\n",
    "\n",
    "\n",
    "```"
   ]
  },
  {
   "cell_type": "code",
   "execution_count": 42,
   "metadata": {},
   "outputs": [],
   "source": [
    "#TODO\n",
    "items = ['a','b','c','d','e','f','g','h','i','j']"
   ]
  },
  {
   "cell_type": "markdown",
   "metadata": {},
   "source": [
    "## Exercise 5"
   ]
  },
  {
   "cell_type": "code",
   "execution_count": 1,
   "metadata": {},
   "outputs": [
    {
     "data": {
      "text/plain": [
       "''"
      ]
     },
     "execution_count": 1,
     "metadata": {},
     "output_type": "execute_result"
    }
   ],
   "source": [
    "#TODO\n",
    "s = \"python\"\n"
   ]
  },
  {
   "cell_type": "markdown",
   "metadata": {},
   "source": [
    "### Q7. What is a “function”? How do we call (use) one? How do we define one ourselves?\n",
    "\n",
    "A function is a block of **reusable** code which is defined once and can be reused wherever you would like in a program. \n",
    "\n",
    "- Call\n",
    "\n",
    "A function is called by writing its **name** and then a `()`. Depending on the function, you can list arguments inside the brackets, separated by commas. \n",
    "\n",
    "- Define\n",
    "\n",
    "To define a function, we use the `def` keyword followed by the function name, parameter(s) in brackets, a\n",
    "colon and then the function body, indented.\n",
    "\n",
    "\n",
    "- Example\n",
    "\n",
    "Define a function that calculate the division of two integers/float"
   ]
  },
  {
   "cell_type": "code",
   "execution_count": 6,
   "metadata": {},
   "outputs": [
    {
     "data": {
      "text/plain": [
       "1.3333333333333333"
      ]
     },
     "execution_count": 6,
     "metadata": {},
     "output_type": "execute_result"
    }
   ],
   "source": [
    "#TODO\n",
    "def division():"
   ]
  },
  {
   "cell_type": "markdown",
   "metadata": {},
   "source": [
    "### Q8. What does it mean to “return” a value from a function and why would we want to? Does a function always need a return value?\n",
    "\n",
    "Creating an interface, like you are playing Lego! The return of a function is it's **output**. So the output of this function can be processed by other part of your program.\n",
    "\n",
    "Returning a value from a function makes it available to the line of code which called the function, so that it can be, for example, **assigned to another variable**. This return value could be the result of a calculation or a status message or something else. A function doesn’t need to have a return value: it could just perform an operation such as print(). You return with the `return` keyword, followed by the value you want to pass. At this point, the function execution terminates.\n",
    "\n",
    "- Example: \n",
    "\n",
    "Calculate the division of two integers, following a multiplication by $2$"
   ]
  },
  {
   "cell_type": "code",
   "execution_count": 7,
   "metadata": {},
   "outputs": [
    {
     "name": "stdout",
     "output_type": "stream",
     "text": [
      "4.0\n",
      "4.0\n"
     ]
    }
   ],
   "source": [
    "division_result = division(4,2)\n",
    "\n",
    "mutiplied_result = division_result * 2\n",
    "\n",
    "print(mutiplied_result)\n",
    "\n",
    "\n",
    "# or, we can merge it into a single line of code\n",
    "print(division(4,2) * 2)"
   ]
  },
  {
   "cell_type": "markdown",
   "metadata": {},
   "source": [
    "### Q9. Why are functions so useful? Could we live without functions?\n",
    "\n",
    "#### * Casual way of answer\n",
    "\n",
    "Functions **reduce code duplication** by allowing us to run the same block of code multiple times. This saves our code from becoming long and repetitive, and makes it easier to edit in the future. It also allows code we write to be used elsewhere, creating more modular code which we can use in more places. We could theoretically live without functions, but code would be very messy and error-prone without them.\n",
    "\n",
    "#### * Technical way of answer\n",
    "\n",
    "Making the code **extensible** is important.\n",
    "Recommend you to read some wikipedia introduction on **programming design patterns**\n",
    "\n",
    "More advanced topics in coding extensibility:\n",
    "**Object-Oriented Design Pattern**"
   ]
  },
  {
   "cell_type": "markdown",
   "metadata": {},
   "source": [
    "### Q10. Why are brackets important when calling a function? Are they needed even if it takes no arguments?\n",
    "\n",
    "Brackets are the difference between a reference to the name of the function and an actual call of the function. Even if there are no arguments, brackets are still needed to call the function (they will simply be empty). **inputs** are passed to a function using a bracket. This is called the **argument** of a function.\n",
    "\n",
    "\n",
    "\n",
    "#### Summary of *function*\n",
    "1. Input/Argument: call a function using `()`\n",
    "2. Output: distinguish between `print()` and `return`\n",
    "3. edge cases: in case someone want to jeopardise your code\n",
    "4. Reduce code **duplication** and make the code **extensible**"
   ]
  },
  {
   "cell_type": "markdown",
   "metadata": {},
   "source": [
    "## Excercise 6\n",
    "\n",
    "### What’s wrong with this code? How can you fix it?\n",
    "\n",
    "```\n",
    "def calc(n1, n2):\n",
    "    answer = n1 + (n1 * n2)\n",
    "    print(answer)\n",
    "\n",
    "    \n",
    "num = int(input(\"Enter the second number: \"))\n",
    "result = calc(2, num)\n",
    "print(\"The result is:\", result)\n",
    "\n",
    "```"
   ]
  },
  {
   "cell_type": "code",
   "execution_count": 8,
   "metadata": {},
   "outputs": [],
   "source": [
    "#TODO"
   ]
  },
  {
   "cell_type": "markdown",
   "metadata": {},
   "source": [
    "### Problems and Q&A Session\n",
    "\n",
    "#### 1. Write a function which takes a string as a single argument, and returns a shortened version of the string consisting of its first three letters and then every second letter in the rest of the word.\n",
    "\n",
    "#### 2. Write a function which takes a sentence as a single argument (in the form of a string), and evaluates whether it is valid based on whether the first letter is capitalised and the last character is a full stop. Return a Boolean value True or False.\n",
    "\n",
    "#### 3. Write a program which asks the user for two numbers and an operator out of +, -, / and * and performs that operation on the two numbers, printing the result."
   ]
  }
 ],
 "metadata": {
  "kernelspec": {
   "display_name": "Python 3",
   "language": "python",
   "name": "python3"
  },
  "language_info": {
   "codemirror_mode": {
    "name": "ipython",
    "version": 3
   },
   "file_extension": ".py",
   "mimetype": "text/x-python",
   "name": "python",
   "nbconvert_exporter": "python",
   "pygments_lexer": "ipython3",
   "version": "3.7.7"
  }
 },
 "nbformat": 4,
 "nbformat_minor": 4
}
