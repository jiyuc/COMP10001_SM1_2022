{
 "cells": [
  {
   "cell_type": "code",
   "execution_count": 59,
   "id": "588c7f14",
   "metadata": {},
   "outputs": [],
   "source": [
    "from nltk.corpus import brown\n",
    "article = brown.words()[:300]"
   ]
  },
  {
   "cell_type": "markdown",
   "id": "1789a0d5",
   "metadata": {},
   "source": [
    "## <p style=\"text-align: center;\">COMP10001 Foundations of Computing<br>Semester 1, 2022<br>Tutorial Questions: Week 5</p>\n",
    "### <p style=\"text-align: center;\">Tutor: Jiyu Chen  ~ *Freddie*</p>\n",
    "\n",
    "#### <p style=\"text-align: center;\">https://<span>github.com/jiyuc/</span>COMP10001_SM1_2022</p>\n",
    "\n",
    "\n",
    "### Q0. Recap of for/while loop conversion. Consider the following `while` loop and two conversions to `for` loops. Are the two `for` loops equivalent? Why might you choose one over the other?\n",
    "\n",
    "```\n",
    "count = 0\n",
    "items = ('eggs', 'spam', 'more eggs')\n",
    "while count < len(items):\n",
    "    print(f\"we need to buy more {items[count]}\")\n",
    "    count += 1\n",
    "```\n",
    "________\n",
    "\n",
    "```\n",
    "items = ('eggs', 'spam', 'more eggs')\n",
    "for count in range(len(items)):\n",
    "    print(f\"we need to buy more {items[count]}\")\n",
    "```\n",
    "_________\n",
    "\n",
    "```\n",
    "items = ('eggs', 'spam', 'more eggs')\n",
    "for item in items:\n",
    "    print(f\"we need to buy more {item}\")\n",
    "```\n"
   ]
  },
  {
   "cell_type": "markdown",
   "id": "blond-emphasis",
   "metadata": {},
   "source": [
    "## Outline: Two new data structures -- dictionary & set\n",
    "__________\n",
    "### Context: Assuming we are developing a module for storing songs in an album. What data structures can we use?\n",
    "\n",
    "#### Sequence is suitable. We can use a tuple to store details of each song, and store each song into a big list.\n",
    "__________\n",
    "```\n",
    "album_cover = ('Memories do not open', 'The Chainsmokers', '2017', '43:00')\n",
    "song_a = ('The One', 'The Chainsmokers', '2017', '2:57')\n",
    "song_b = ('Paris', 'The Chainsmokers', '2017', '3:44')\n",
    "song_c = ('Something Just Like This', 'The Chainsmokers and Coldplay', '2017', '4:07')\n",
    "... ...\n",
    "\n",
    "my_album = [album_cover, song_a, song_b, song_c]\n",
    "\n",
    "```\n",
    "__________\n",
    "#### What if we want to search if *Last Day Alive (feat. Florida Georgia Line)* is within this album? We need to implement a for loop\n",
    "_____\n",
    "```\n",
    "def search_song_by_name(name):\n",
    "    for song in my_album:\n",
    "        if song[0] == name:\n",
    "            return song\n",
    "    return False\n",
    "    \n",
    "result = search_song_by_name('Last Day Alive')\n",
    "```\n",
    "_____\n",
    "#### Shortcoming: Inefficiency, more techinically -- Time Complexity\n",
    "What if we extend the service to more albums, let's assume, 1 million songs. It will take a computer interate through 1/2 million records for each query in average.\n",
    "\n",
    "\n",
    "#### Solution: Group songs with certain keys and use pointers to connect the key with less songs. By doing so, we only need to iterate through keys, instead of entire collection of song records. Let's assume we group the songs by English characters (analog to a dictionary book). We only have to search songs that named a specific English character as initial.\n",
    "__________\n",
    "```\n",
    "song_lookup:\n",
    "\n",
    "key -pointer-> value\n",
    "\n",
    "T -> The One\n",
    "P -> Paris\n",
    "S -> Something Just Like This\n",
    "\n",
    "\n",
    "def search_song_by_name(name):\n",
    "    key = name[0]\n",
    "    \n",
    "    for grouped_song in song_lookup[key]:\n",
    "        if name == grouped_song[name]:\n",
    "            return grouped_song\n",
    "            \n",
    "    return False\n",
    "    \n",
    "result = search_song_by_name('Last Day Alive')\n",
    "```\n",
    "__________\n",
    "\n",
    "#### The lookup table, with definition of pointer connecting specific key and value, is called dictionary.\n",
    "\n",
    "\n",
    "            \n",
    "\n"
   ]
  },
  {
   "cell_type": "markdown",
   "id": "literary-river",
   "metadata": {},
   "source": [
    "##  Q1. In what situations would we use a “dictionary”. How is it structured, how do we add and delete items?\n",
    "\n",
    "A dictionary holds relations (pointers) between `keys` and `values`. It’s useful for counting frequencies or storing information related to different objects in your code. Dictionaries are accessed in a similar way to other sequences, by using index notation `d[key]`. \n",
    "\n",
    "Values stored are retrieved by indexing with the associated key. Values are added by indexing with assignment `d[key]=value`\n",
    "\n",
    "and deleted with the `.pop(key)` method, which takes as an argument the key we wish to delete. \n",
    "\n",
    "Working with data stored in dictionaries is easy using the `.keys()` and `.values()` methods, which return a collection of the keys and values respectively; and `.items()` which returns a collection of tuples representing each entry in the dictionary, in `(key, value)` format.\n",
    "\n",
    "An empty dictionary is declared with a pair of braces `{}` or `dict()`."
   ]
  },
  {
   "cell_type": "code",
   "execution_count": null,
   "id": "3e074554",
   "metadata": {},
   "outputs": [],
   "source": [
    "# decalaration\n",
    "word_count = dict()"
   ]
  },
  {
   "cell_type": "code",
   "execution_count": null,
   "id": "f51fa057",
   "metadata": {},
   "outputs": [],
   "source": [
    "# assign items -- i.e., create a map between key to value\n",
    "\n",
    "for word in article:\n",
    "    if word in word_count:\n",
    "        word_count[word] += 1\n",
    "    else:\n",
    "        word_count[word] = 1\n"
   ]
  },
  {
   "cell_type": "code",
   "execution_count": null,
   "id": "2f1d8545",
   "metadata": {},
   "outputs": [],
   "source": [
    "# get keys\n",
    "word_count.keys()"
   ]
  },
  {
   "cell_type": "code",
   "execution_count": null,
   "id": "5c52cbd5",
   "metadata": {},
   "outputs": [],
   "source": [
    "# get values\n",
    "word_count.values()"
   ]
  },
  {
   "cell_type": "code",
   "execution_count": null,
   "id": "53bfb159",
   "metadata": {},
   "outputs": [],
   "source": [
    "# get items , i.e., full map between key -> value\n",
    "word_count.items()"
   ]
  },
  {
   "cell_type": "code",
   "execution_count": null,
   "id": "a3921466",
   "metadata": {},
   "outputs": [],
   "source": [
    "# delete item -- the frequency of occurrence of word `The`\n",
    "word_count.pop('The')"
   ]
  },
  {
   "cell_type": "code",
   "execution_count": null,
   "id": "221e1897",
   "metadata": {},
   "outputs": [],
   "source": [
    "# inspect again, you will notice 'The' and its associated value has been removed\n",
    "word_count.items()"
   ]
  },
  {
   "cell_type": "markdown",
   "id": "angry-tunnel",
   "metadata": {},
   "source": [
    "## Q2. What is the difference between using the .pop() method on a dictionary and using it on a list?\n",
    "\n",
    "- On a *list*: `.pop()` called without an index argument removes the last item in the list. Called with an index `.pop(index)` deletes the item at that index in the list. Both times it will return the object it has deleted from the list.\n",
    "\n",
    "- On a *dictionary*: `.pop(key)` deletes the (key: value) pair associated with that key in the dictionary, returning the value it has removed. Without an argument, `.pop()` will **NOT** work because unlike lists, dictionaries do not have an ordering of entries. Therefore, .pop() needs a key to know which value to delete."
   ]
  },
  {
   "cell_type": "code",
   "execution_count": 37,
   "id": "stopped-bidding",
   "metadata": {},
   "outputs": [],
   "source": [
    "# TODO\n",
    "demo_list = ['b','c','a','a']\n",
    "demo_dict = {'b':1,'c':2,'a':3}"
   ]
  },
  {
   "cell_type": "markdown",
   "id": "destroyed-welding",
   "metadata": {},
   "source": [
    "## Q3. In what situations would we use a “set”? How does it differ from other “containers” such as lists and dictionaries?\n",
    "\n",
    "A set stores a collection of **unique** objects. Perhaps most naturally, we may use sets to store a mathematical set of numbers, but we may also store a mixture of any other unique objects. Sets are useful when we want to **remove duplicates from some other sequence**, or combine sets with set operations.\n",
    "Sets are somewhat like a dictionary without a value for each key: in both cases each entry is unique and there is **no concept of an ordering**. A list has an order and may have duplicates: both of these attributes are lost when converting to a set.\n",
    "\n",
    "\n",
    "**No concpet of ordering means** u cannot access items in a `set` using position indexing or slicing."
   ]
  },
  {
   "cell_type": "code",
   "execution_count": 40,
   "id": "passing-georgia",
   "metadata": {},
   "outputs": [
    {
     "name": "stdout",
     "output_type": "stream",
     "text": [
      "['b', 'c', 'a', 'a'] {'c', 'b', 'a'}\n"
     ]
    }
   ],
   "source": [
    "demo_list = ['b','c','a','a']\n",
    "demo_set = set(demo_list)\n",
    "print(demo_list, demo_set)"
   ]
  },
  {
   "cell_type": "code",
   "execution_count": null,
   "id": "union-edmonton",
   "metadata": {},
   "outputs": [],
   "source": [
    "#TODO\n",
    "demo_set[2]"
   ]
  },
  {
   "cell_type": "markdown",
   "id": "iraqi-merchant",
   "metadata": {},
   "source": [
    "## Q4. What special operations can we perform on sets? How do we add and remove items from them?\n",
    "\n",
    "The three main operations are \n",
    "- union: `s1 | s2` or `s1.union(s2)`; \n",
    "- intersection: `s1 & s2` or `s1.intersection(s2)`;\n",
    "- difference: `s1 - s2` or `s1.difference(s2)`. Pay attention to the Minuend and Subtraction\n",
    "\n",
    "![](uH6cL.png)"
   ]
  },
  {
   "cell_type": "code",
   "execution_count": 44,
   "id": "dac90b19",
   "metadata": {},
   "outputs": [
    {
     "data": {
      "text/plain": [
       "{1}"
      ]
     },
     "execution_count": 44,
     "metadata": {},
     "output_type": "execute_result"
    }
   ],
   "source": [
    "s1 = {1,2,3}\n",
    "s2 = {2,3,4}\n",
    "\n",
    "s1 - s2  # Pay attention to the Minuend and Subtraction"
   ]
  },
  {
   "cell_type": "markdown",
   "id": "d49e0a06",
   "metadata": {},
   "source": [
    "- Adding an item is possible with the `.add(item)` method and removing an item is done with the `.remove(item)` method.\n",
    "\n",
    "- Note that since a pair of empty braces `{}` denotes an empty dictionary, we use `set()` in order to create an empty set."
   ]
  },
  {
   "cell_type": "code",
   "execution_count": null,
   "id": "hydraulic-quilt",
   "metadata": {},
   "outputs": [],
   "source": [
    "s1,s2 = set(),set() # declare two empty sets\n",
    "\n",
    "for i in [1,2,3,4]:\n",
    "    s1.add(i)       # add item in set\n",
    "    \n",
    "for i in [3,4,5,6,7]:\n",
    "    s2.add(i)\n",
    "    \n",
    "print(s1,s2)\n",
    "s2.remove(7)        # remove 7 from s2\n",
    "print(\"After removing 7: \",s2)\n",
    "\n",
    "\n",
    "print(\"union of s1 and s2: \",s1|s2)\n",
    "print(\"intersection of s1 and s2: \",s1&s2)\n",
    "print(\"difference of s1 towards s2: \",s1-s2)\n",
    "print(\"difference of s2 towards s1: \",s2-s1)"
   ]
  },
  {
   "cell_type": "markdown",
   "id": "failing-address",
   "metadata": {},
   "source": [
    "## Exercise 1\n",
    "\n",
    "![](e01.png)\n",
    "\n",
    "____\n",
    "\n",
    "![](e02.png)\n"
   ]
  },
  {
   "cell_type": "markdown",
   "id": "moving-paintball",
   "metadata": {},
   "source": [
    "## Q5. What is None? How is it used?\n",
    "\n",
    "`None` is a special value in Python, notable for being what’s passed as the return value of a function when no return value is specified. It can therefore be used to represent the absence of a result, perhaps as a somewhat third option to a True/False boolean result. `None` is the value you will find if you assign the “output” from many mutating methods such as `.append()` which do not return anything. `None` is its own type, so no value of any other type has equality with it."
   ]
  },
  {
   "cell_type": "code",
   "execution_count": 45,
   "id": "blind-manner",
   "metadata": {},
   "outputs": [
    {
     "name": "stdout",
     "output_type": "stream",
     "text": [
      "else executed\n"
     ]
    }
   ],
   "source": [
    "var = None\n",
    "\n",
    "if var:\n",
    "    print('if executed')\n",
    "else:\n",
    "    print('else executed')"
   ]
  },
  {
   "cell_type": "markdown",
   "id": "sixth-illinois",
   "metadata": {},
   "source": [
    "## Q6. What is the difference between `sorted()` and `.sort()` when applied to a list? What does it mean to edit an object “in-place”?\n",
    "\n",
    "### A perfect consolidation of comparing mutation/immutation operation\n",
    "\n",
    "Say we’re talking about a list `my_list`. Both `sorted(my_list)` and `my_list.sort()` will sort `my_list`. \n",
    "\n",
    "`sorted(my_list)` will **return a new list** which contains the items of my_list in sorted order. my_list is left unchanged by this function. \n",
    "\n",
    "`my_list.sort()` on the other hand, will **mutate `my_list`**, changing the order of its items to sort it. Nothing is returned from this method (None if you try to assign its output) because it does its work directly on the list. The original order of items in my_list is overwritten.\n",
    "\n",
    "Editing an object **in-place** means **mutating** it: editing it directly without creating a copy or returning a new obejct. It can be dangerous if you’re not sure you want your data to be changed so be careful!"
   ]
  },
  {
   "cell_type": "code",
   "execution_count": 53,
   "id": "901fbde5",
   "metadata": {},
   "outputs": [
    {
     "name": "stdout",
     "output_type": "stream",
     "text": [
      "[7, 6, 13, 7, 19, 11, 9, 4, 7, 8]\n"
     ]
    }
   ],
   "source": [
    "# randomly generate a list of integers\n",
    "import random\n",
    "nums = [random.randint(0, 20) for _ in range(10)]\n",
    "print(nums)"
   ]
  },
  {
   "cell_type": "code",
   "execution_count": 57,
   "id": "3a6e20a8",
   "metadata": {},
   "outputs": [
    {
     "name": "stdout",
     "output_type": "stream",
     "text": [
      "[4, 6, 7, 7, 7, 8, 9, 11, 13, 19]\n",
      "[7, 6, 13, 7, 19, 11, 9, 4, 7, 8]\n"
     ]
    }
   ],
   "source": [
    "sorted_nums = sorted(nums)\n",
    "print(sorted_nums)\n",
    "print(nums)"
   ]
  },
  {
   "cell_type": "code",
   "execution_count": 58,
   "id": "interpreted-avatar",
   "metadata": {},
   "outputs": [
    {
     "name": "stdout",
     "output_type": "stream",
     "text": [
      "None\n",
      "[4, 6, 7, 7, 7, 8, 9, 11, 13, 19]\n"
     ]
    }
   ],
   "source": [
    "dot_sort_nums = nums.sort()\n",
    "print(dot_sort_nums)\n",
    "print(nums)\n"
   ]
  },
  {
   "cell_type": "markdown",
   "id": "timely-bridal",
   "metadata": {},
   "source": [
    "## Problems"
   ]
  },
  {
   "cell_type": "markdown",
   "id": "e0f8cd11",
   "metadata": {},
   "source": [
    "![](p01.png)"
   ]
  },
  {
   "cell_type": "code",
   "execution_count": null,
   "id": "minor-disorder",
   "metadata": {},
   "outputs": [],
   "source": [
    "def freq_counts(arg):\n",
    "    # finish this block\n",
    "    \n",
    "    \n",
    "    # finish block above\n",
    "\n",
    "freq_counts('booboo')\n",
    "    "
   ]
  },
  {
   "cell_type": "markdown",
   "id": "0cc156f2",
   "metadata": {},
   "source": [
    "![](p02.png)"
   ]
  },
  {
   "cell_type": "code",
   "execution_count": null,
   "id": "9d45af07",
   "metadata": {},
   "outputs": [],
   "source": [
    "def in_common(list1, list2):\n",
    "    # finish this block\n",
    "    \n",
    "    \n",
    "    # finish block above\n",
    "\n",
    "result = in_common([1,2,4], [3,4,5])\n",
    "print(result)"
   ]
  },
  {
   "cell_type": "markdown",
   "id": "7aef8990",
   "metadata": {},
   "source": [
    "![](p03.png)"
   ]
  },
  {
   "cell_type": "code",
   "execution_count": null,
   "id": "af6b51af",
   "metadata": {},
   "outputs": [],
   "source": [
    "def unique_values(arg):\n",
    "    # finish this block\n",
    "    \n",
    "    \n",
    "    # finish block above\n",
    "    \n",
    "\n",
    "result = unique_values({'a': 1, 'b': 0, 'c': 0})\n",
    "print(result)\n",
    "    "
   ]
  },
  {
   "cell_type": "markdown",
   "id": "64a4cd5c",
   "metadata": {},
   "source": [
    "![](p04.png)"
   ]
  },
  {
   "cell_type": "code",
   "execution_count": null,
   "id": "c58da98f",
   "metadata": {},
   "outputs": [],
   "source": [
    "def above_thresh(text, char, threshold):\n",
    "    # finish this block\n",
    "    \n",
    "    \n",
    "    # finish block above\n",
    "    \n",
    "result = above_thresh('I like the letter e', 'e', 3)\n",
    "print(result)"
   ]
  }
 ],
 "metadata": {
  "kernelspec": {
   "display_name": "Python 3",
   "language": "python",
   "name": "python3"
  },
  "language_info": {
   "codemirror_mode": {
    "name": "ipython",
    "version": 3
   },
   "file_extension": ".py",
   "mimetype": "text/x-python",
   "name": "python",
   "nbconvert_exporter": "python",
   "pygments_lexer": "ipython3",
   "version": "3.7.7"
  }
 },
 "nbformat": 4,
 "nbformat_minor": 5
}
