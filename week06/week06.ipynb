{
 "cells": [
  {
   "cell_type": "code",
   "execution_count": null,
   "id": "2a759023",
   "metadata": {},
   "outputs": [],
   "source": [
    "from nltk.corpus import brown\n",
    "article = brown.words()[:300]"
   ]
  },
  {
   "cell_type": "markdown",
   "id": "3721fae0",
   "metadata": {},
   "source": [
    "## <p style=\"text-align: center;\">COMP10001 Foundations of Computing<br>Semester 1, 2022<br>Tutorial Questions: Week 6</p>\n",
    "### <p style=\"text-align: center;\">Tutor: Jiyu Chen  ~ *Freddie*</p>\n",
    "\n",
    "#### <p style=\"text-align: center;\">https://<span>github.com/jiyuc/</span>COMP10001_SM1_2022</p>\n",
    "\n",
    "\n",
    "### Q0. Recap of for/while loop conversion. Consider the following `while` loop and two conversions to `for` loops. Are the two `for` loops equivalent? Why might you choose one over the other?\n",
    "\n",
    "```\n",
    "count = 0\n",
    "items = ('eggs', 'spam', 'more eggs')\n",
    "while count < len(items):\n",
    "    print(f\"we need to buy more {items[count]}\")\n",
    "    count += 1\n",
    "```\n",
    "________\n",
    "\n",
    "```\n",
    "items = ('eggs', 'spam', 'more eggs')\n",
    "for count in range(len(items)):\n",
    "    print(f\"we need to buy more {items[count]}\")\n",
    "```\n",
    "_________\n",
    "\n",
    "```\n",
    "items = ('eggs', 'spam', 'more eggs')\n",
    "for item in items:\n",
    "    print(f\"we need to buy more {item}\")\n",
    "```\n"
   ]
  },
  {
   "cell_type": "markdown",
   "id": "blond-emphasis",
   "metadata": {},
   "source": [
    "## Outline: Two new data structures -- dictionary & set\n",
    "__________\n",
    "### Context: Assuming we are developing a module for storing songs in an album. What data structures can we use?\n",
    "\n",
    "#### Sequence is suitable. We can use a tuple to store details of each song, and store each song into a big list.\n",
    "__________\n",
    "```\n",
    "album_cover = ('Memories do not open', 'The Chainsmokers', '2017', '43:00')\n",
    "song_a = ('The One', 'The Chainsmokers', '2017', '2:57')\n",
    "song_b = ('Paris', 'The Chainsmokers', '2017', '3:44')\n",
    "song_c = ('Something Just Like This', 'The Chainsmokers and Coldplay', '2017', '4:07')\n",
    "... ...\n",
    "\n",
    "my_album = [album_cover, song_a, song_b, song_c]\n",
    "\n",
    "```\n",
    "__________\n",
    "#### What if we want to search if *Last Day Alive (feat. Florida Georgia Line)* is within this album? We need to implement a for loop\n",
    "_____\n",
    "```\n",
    "def search_song_by_name(name):\n",
    "    for song in my_album:\n",
    "        if song[0] == name:\n",
    "            return song\n",
    "    return False\n",
    "    \n",
    "result = search_song_by_name('Last Day Alive')\n",
    "```\n",
    "_____\n",
    "#### Shortcoming: Inefficiency, more techinically -- Time Complexity\n",
    "What if we extend the service to more albums, let's assume, 1 million songs. It will take a computer interate through 1/2 million records for each query in average.\n",
    "\n",
    "\n",
    "#### Solution: Group songs with certain keys and use pointers to connect the key with less songs. By doing so, we only need to iterate through keys, instead of entire collection of song records. Let's assume we group the songs by English characters (analog to a dictionary book). We only have to search songs that named a specific English character as initial.\n",
    "__________\n",
    "```\n",
    "song_lookup:\n",
    "\n",
    "key -pointer-> value\n",
    "\n",
    "T -> The One\n",
    "P -> Paris\n",
    "S -> Something Just Like This\n",
    "\n",
    "\n",
    "def search_song_by_name(name):\n",
    "    key = name[0]\n",
    "    \n",
    "    for grouped_song in song_lookup[key]:\n",
    "        if name == grouped_song[name]:\n",
    "            return grouped_song\n",
    "            \n",
    "    return False\n",
    "    \n",
    "result = search_song_by_name('Last Day Alive')\n",
    "```\n",
    "__________\n",
    "\n",
    "#### The lookup table, with definition of pointer connecting specific key and value, is called dictionary.\n",
    "\n",
    "\n",
    "            \n",
    "\n"
   ]
  },
  {
   "cell_type": "markdown",
   "id": "literary-river",
   "metadata": {},
   "source": [
    "##  Q1. In what situations would we use a “dictionary”. How is it structured, how do we add and delete items?\n",
    "\n",
    "A dictionary holds relations (pointers) between `keys` and `values`. It’s useful for counting frequencies or storing information related to different objects in your code. Dictionaries are accessed in a similar way to other sequences, by using index notation `d[key]`. \n",
    "\n",
    "Values stored are retrieved by indexing with the associated key. Values are added by indexing with assignment `d[key]=value`\n",
    "\n",
    "and deleted with the `.pop(key)` method, which takes as an argument the key we wish to delete. \n",
    "\n",
    "Working with data stored in dictionaries is easy using the `.keys()` and `.values()` methods, which return a collection of the keys and values respectively; and `.items()` which returns a collection of tuples representing each entry in the dictionary, in `(key, value)` format.\n",
    "\n",
    "An empty dictionary is declared with a pair of braces `{}` or `dict()`."
   ]
  },
  {
   "cell_type": "code",
   "execution_count": 7,
   "id": "4e91643f",
   "metadata": {},
   "outputs": [
    {
     "data": {
      "text/plain": [
       "\"The Fulton County Grand Jury said Friday an investigation of Atlanta's recent primary election produced `` no evidence '' that any irregularities took place . The jury further said in term-end presentments that the City Executive Committee , which had over-all charge of the election , `` deserves the praise and thanks of the City of Atlanta '' for the manner in which the election was conducted . The September-October term jury had been charged by Fulton Superior Court Judge Durwood Pye to investigate reports of possible `` irregularities '' in the hard-fought primary which was won by Mayor-nominate Ivan Allen Jr. . `` Only a relative handful of such reports was received '' , the jury said , `` considering the widespread interest in the election , the number of voters and the size of this city '' . The jury said it did find that many of Georgia's registration and election laws `` are outmoded or inadequate and often ambiguous '' . It recommended that Fulton legislators act `` to have these laws studied and revised to the end of modernizing and improving them '' . The grand jury commented on a number of other topics , among them the Atlanta and Fulton County purchasing departments which it said `` are well operated and follow generally accepted practices which inure to the best interest of both governments '' . Merger proposed However , the jury said it believes `` these two offices should be combined to achieve greater efficiency and reduce the cost of administration '' . The City Purchasing Department , the jury said , `` is lacking in experienced clerical personnel as a result of city personnel policies '' . It urged that the city `` take steps to remedy '' this problem . Implementation of\""
      ]
     },
     "execution_count": 7,
     "metadata": {},
     "output_type": "execute_result"
    }
   ],
   "source": [
    "' '.join(article)"
   ]
  },
  {
   "cell_type": "code",
   "execution_count": 9,
   "id": "d9ce06f4",
   "metadata": {},
   "outputs": [],
   "source": [
    "# declaration\n",
    "word_count = dict()\n",
    "word_count = {}"
   ]
  },
  {
   "cell_type": "code",
   "execution_count": 11,
   "id": "fd0cd7cb",
   "metadata": {},
   "outputs": [],
   "source": [
    "# assign items -- i.e., create a map between key to value\n",
    "\n",
    "for word in article:\n",
    "    #print(word)\n",
    "    if word in word_count:\n",
    "        word_count[word] += 1\n",
    "    else:\n",
    "        word_count[word] = 1\n"
   ]
  },
  {
   "cell_type": "code",
   "execution_count": 12,
   "id": "54c23902",
   "metadata": {},
   "outputs": [
    {
     "data": {
      "text/plain": [
       "156"
      ]
     },
     "execution_count": 12,
     "metadata": {},
     "output_type": "execute_result"
    }
   ],
   "source": [
    "len(word_count)"
   ]
  },
  {
   "cell_type": "code",
   "execution_count": 13,
   "id": "f59868e5",
   "metadata": {},
   "outputs": [
    {
     "data": {
      "text/plain": [
       "dict_keys(['The', 'Fulton', 'County', 'Grand', 'Jury', 'said', 'Friday', 'an', 'investigation', 'of', \"Atlanta's\", 'recent', 'primary', 'election', 'produced', '``', 'no', 'evidence', \"''\", 'that', 'any', 'irregularities', 'took', 'place', '.', 'jury', 'further', 'in', 'term-end', 'presentments', 'the', 'City', 'Executive', 'Committee', ',', 'which', 'had', 'over-all', 'charge', 'deserves', 'praise', 'and', 'thanks', 'Atlanta', 'for', 'manner', 'was', 'conducted', 'September-October', 'term', 'been', 'charged', 'by', 'Superior', 'Court', 'Judge', 'Durwood', 'Pye', 'to', 'investigate', 'reports', 'possible', 'hard-fought', 'won', 'Mayor-nominate', 'Ivan', 'Allen', 'Jr.', 'Only', 'a', 'relative', 'handful', 'such', 'received', 'considering', 'widespread', 'interest', 'number', 'voters', 'size', 'this', 'city', 'it', 'did', 'find', 'many', \"Georgia's\", 'registration', 'laws', 'are', 'outmoded', 'or', 'inadequate', 'often', 'ambiguous', 'It', 'recommended', 'legislators', 'act', 'have', 'these', 'studied', 'revised', 'end', 'modernizing', 'improving', 'them', 'grand', 'commented', 'on', 'other', 'topics', 'among', 'purchasing', 'departments', 'well', 'operated', 'follow', 'generally', 'accepted', 'practices', 'inure', 'best', 'both', 'governments', 'Merger', 'proposed', 'However', 'believes', 'two', 'offices', 'should', 'be', 'combined', 'achieve', 'greater', 'efficiency', 'reduce', 'cost', 'administration', 'Purchasing', 'Department', 'is', 'lacking', 'experienced', 'clerical', 'personnel', 'as', 'result', 'policies', 'urged', 'take', 'steps', 'remedy', 'problem', 'Implementation'])"
      ]
     },
     "execution_count": 13,
     "metadata": {},
     "output_type": "execute_result"
    }
   ],
   "source": [
    "# get keys\n",
    "word_count.keys()"
   ]
  },
  {
   "cell_type": "code",
   "execution_count": 14,
   "id": "292d959d",
   "metadata": {},
   "outputs": [
    {
     "data": {
      "text/plain": [
       "dict_values([12, 8, 4, 2, 2, 14, 2, 2, 2, 30, 2, 2, 4, 10, 2, 22, 2, 2, 22, 10, 2, 4, 2, 2, 20, 14, 2, 10, 2, 2, 38, 6, 2, 2, 18, 10, 4, 2, 2, 2, 2, 18, 2, 4, 2, 2, 6, 2, 2, 2, 2, 2, 4, 2, 2, 2, 2, 2, 12, 2, 4, 2, 2, 2, 2, 2, 2, 2, 2, 6, 2, 2, 2, 2, 2, 2, 4, 4, 2, 2, 4, 6, 6, 2, 2, 2, 2, 2, 4, 4, 2, 2, 2, 2, 2, 4, 2, 2, 2, 2, 4, 2, 2, 2, 2, 2, 4, 2, 2, 2, 2, 2, 2, 2, 2, 2, 2, 2, 2, 2, 2, 2, 2, 2, 2, 2, 2, 2, 2, 2, 2, 2, 2, 2, 2, 2, 2, 2, 2, 2, 2, 2, 2, 2, 2, 2, 4, 2, 2, 2, 2, 2, 2, 2, 2, 2])"
      ]
     },
     "execution_count": 14,
     "metadata": {},
     "output_type": "execute_result"
    }
   ],
   "source": [
    "# get values\n",
    "word_count.values()"
   ]
  },
  {
   "cell_type": "code",
   "execution_count": 15,
   "id": "1bffa62e",
   "metadata": {},
   "outputs": [
    {
     "data": {
      "text/plain": [
       "dict_items([('The', 12), ('Fulton', 8), ('County', 4), ('Grand', 2), ('Jury', 2), ('said', 14), ('Friday', 2), ('an', 2), ('investigation', 2), ('of', 30), (\"Atlanta's\", 2), ('recent', 2), ('primary', 4), ('election', 10), ('produced', 2), ('``', 22), ('no', 2), ('evidence', 2), (\"''\", 22), ('that', 10), ('any', 2), ('irregularities', 4), ('took', 2), ('place', 2), ('.', 20), ('jury', 14), ('further', 2), ('in', 10), ('term-end', 2), ('presentments', 2), ('the', 38), ('City', 6), ('Executive', 2), ('Committee', 2), (',', 18), ('which', 10), ('had', 4), ('over-all', 2), ('charge', 2), ('deserves', 2), ('praise', 2), ('and', 18), ('thanks', 2), ('Atlanta', 4), ('for', 2), ('manner', 2), ('was', 6), ('conducted', 2), ('September-October', 2), ('term', 2), ('been', 2), ('charged', 2), ('by', 4), ('Superior', 2), ('Court', 2), ('Judge', 2), ('Durwood', 2), ('Pye', 2), ('to', 12), ('investigate', 2), ('reports', 4), ('possible', 2), ('hard-fought', 2), ('won', 2), ('Mayor-nominate', 2), ('Ivan', 2), ('Allen', 2), ('Jr.', 2), ('Only', 2), ('a', 6), ('relative', 2), ('handful', 2), ('such', 2), ('received', 2), ('considering', 2), ('widespread', 2), ('interest', 4), ('number', 4), ('voters', 2), ('size', 2), ('this', 4), ('city', 6), ('it', 6), ('did', 2), ('find', 2), ('many', 2), (\"Georgia's\", 2), ('registration', 2), ('laws', 4), ('are', 4), ('outmoded', 2), ('or', 2), ('inadequate', 2), ('often', 2), ('ambiguous', 2), ('It', 4), ('recommended', 2), ('legislators', 2), ('act', 2), ('have', 2), ('these', 4), ('studied', 2), ('revised', 2), ('end', 2), ('modernizing', 2), ('improving', 2), ('them', 4), ('grand', 2), ('commented', 2), ('on', 2), ('other', 2), ('topics', 2), ('among', 2), ('purchasing', 2), ('departments', 2), ('well', 2), ('operated', 2), ('follow', 2), ('generally', 2), ('accepted', 2), ('practices', 2), ('inure', 2), ('best', 2), ('both', 2), ('governments', 2), ('Merger', 2), ('proposed', 2), ('However', 2), ('believes', 2), ('two', 2), ('offices', 2), ('should', 2), ('be', 2), ('combined', 2), ('achieve', 2), ('greater', 2), ('efficiency', 2), ('reduce', 2), ('cost', 2), ('administration', 2), ('Purchasing', 2), ('Department', 2), ('is', 2), ('lacking', 2), ('experienced', 2), ('clerical', 2), ('personnel', 4), ('as', 2), ('result', 2), ('policies', 2), ('urged', 2), ('take', 2), ('steps', 2), ('remedy', 2), ('problem', 2), ('Implementation', 2)])"
      ]
     },
     "execution_count": 15,
     "metadata": {},
     "output_type": "execute_result"
    }
   ],
   "source": [
    "# get items , i.e., full map between key -> value\n",
    "word_count.items()"
   ]
  },
  {
   "cell_type": "code",
   "execution_count": 16,
   "id": "53c9b8f7",
   "metadata": {},
   "outputs": [
    {
     "data": {
      "text/plain": [
       "12"
      ]
     },
     "execution_count": 16,
     "metadata": {},
     "output_type": "execute_result"
    }
   ],
   "source": [
    "# delete item -- the frequency of occurrence of word `The`\n",
    "word_count.pop('The')"
   ]
  },
  {
   "cell_type": "code",
   "execution_count": 17,
   "id": "530a2286",
   "metadata": {},
   "outputs": [
    {
     "data": {
      "text/plain": [
       "dict_items([('Fulton', 8), ('County', 4), ('Grand', 2), ('Jury', 2), ('said', 14), ('Friday', 2), ('an', 2), ('investigation', 2), ('of', 30), (\"Atlanta's\", 2), ('recent', 2), ('primary', 4), ('election', 10), ('produced', 2), ('``', 22), ('no', 2), ('evidence', 2), (\"''\", 22), ('that', 10), ('any', 2), ('irregularities', 4), ('took', 2), ('place', 2), ('.', 20), ('jury', 14), ('further', 2), ('in', 10), ('term-end', 2), ('presentments', 2), ('the', 38), ('City', 6), ('Executive', 2), ('Committee', 2), (',', 18), ('which', 10), ('had', 4), ('over-all', 2), ('charge', 2), ('deserves', 2), ('praise', 2), ('and', 18), ('thanks', 2), ('Atlanta', 4), ('for', 2), ('manner', 2), ('was', 6), ('conducted', 2), ('September-October', 2), ('term', 2), ('been', 2), ('charged', 2), ('by', 4), ('Superior', 2), ('Court', 2), ('Judge', 2), ('Durwood', 2), ('Pye', 2), ('to', 12), ('investigate', 2), ('reports', 4), ('possible', 2), ('hard-fought', 2), ('won', 2), ('Mayor-nominate', 2), ('Ivan', 2), ('Allen', 2), ('Jr.', 2), ('Only', 2), ('a', 6), ('relative', 2), ('handful', 2), ('such', 2), ('received', 2), ('considering', 2), ('widespread', 2), ('interest', 4), ('number', 4), ('voters', 2), ('size', 2), ('this', 4), ('city', 6), ('it', 6), ('did', 2), ('find', 2), ('many', 2), (\"Georgia's\", 2), ('registration', 2), ('laws', 4), ('are', 4), ('outmoded', 2), ('or', 2), ('inadequate', 2), ('often', 2), ('ambiguous', 2), ('It', 4), ('recommended', 2), ('legislators', 2), ('act', 2), ('have', 2), ('these', 4), ('studied', 2), ('revised', 2), ('end', 2), ('modernizing', 2), ('improving', 2), ('them', 4), ('grand', 2), ('commented', 2), ('on', 2), ('other', 2), ('topics', 2), ('among', 2), ('purchasing', 2), ('departments', 2), ('well', 2), ('operated', 2), ('follow', 2), ('generally', 2), ('accepted', 2), ('practices', 2), ('inure', 2), ('best', 2), ('both', 2), ('governments', 2), ('Merger', 2), ('proposed', 2), ('However', 2), ('believes', 2), ('two', 2), ('offices', 2), ('should', 2), ('be', 2), ('combined', 2), ('achieve', 2), ('greater', 2), ('efficiency', 2), ('reduce', 2), ('cost', 2), ('administration', 2), ('Purchasing', 2), ('Department', 2), ('is', 2), ('lacking', 2), ('experienced', 2), ('clerical', 2), ('personnel', 4), ('as', 2), ('result', 2), ('policies', 2), ('urged', 2), ('take', 2), ('steps', 2), ('remedy', 2), ('problem', 2), ('Implementation', 2)])"
      ]
     },
     "execution_count": 17,
     "metadata": {},
     "output_type": "execute_result"
    }
   ],
   "source": [
    "# inspect again, you will notice 'The' and its associated value has been removed\n",
    "word_count.items()"
   ]
  },
  {
   "cell_type": "markdown",
   "id": "angry-tunnel",
   "metadata": {},
   "source": [
    "## Q2. What is the difference between using the .pop() method on a dictionary and using it on a list?\n",
    "\n",
    "- On a *list*: `.pop()` called without an index argument removes the last item in the list. Called with an index `.pop(index)` deletes the item at that index in the list. Both times it will return the object it has deleted from the list.\n",
    "\n",
    "- On a *dictionary*: `.pop(key)` deletes the (key: value) pair associated with that key in the dictionary, returning the value it has removed. Without an argument, `.pop()` will **NOT** work because unlike lists, dictionaries do not have an ordering of entries. Therefore, .pop() needs a key to know which value to delete."
   ]
  },
  {
   "cell_type": "code",
   "execution_count": null,
   "id": "stopped-bidding",
   "metadata": {},
   "outputs": [],
   "source": [
    "# TODO\n",
    "demo_list = ['b','c','a','a']\n",
    "demo_dict = {'b':1,'c':2,'a':3}"
   ]
  },
  {
   "cell_type": "markdown",
   "id": "destroyed-welding",
   "metadata": {},
   "source": [
    "## Q3. In what situations would we use a “set”? How does it differ from other “containers” such as lists and dictionaries?\n",
    "\n",
    "A set stores a collection of **unique** objects. Perhaps most naturally, we may use sets to store a mathematical set of numbers, but we may also store a mixture of any other unique objects. Sets are useful when we want to **remove duplicates from some other sequence**, or combine sets with set operations.\n",
    "Sets are somewhat like a dictionary without a value for each key: in both cases each entry is unique and there is **no concept of an ordering**. A list has an order and may have duplicates: both of these attributes are lost when converting to a set.\n",
    "\n",
    "\n",
    "**No concpet of ordering means** u cannot access items in a `set` using position indexing or slicing."
   ]
  },
  {
   "cell_type": "code",
   "execution_count": 18,
   "id": "passing-georgia",
   "metadata": {},
   "outputs": [
    {
     "name": "stdout",
     "output_type": "stream",
     "text": [
      "['b', 'c', 'a', 'a'] {'b', 'a', 'c'}\n"
     ]
    }
   ],
   "source": [
    "demo_list = ['b','c','a','a']\n",
    "demo_set = set(demo_list)\n",
    "print(demo_list, demo_set)"
   ]
  },
  {
   "cell_type": "code",
   "execution_count": 19,
   "id": "b8c4dc6e",
   "metadata": {},
   "outputs": [
    {
     "data": {
      "text/plain": [
       "'b'"
      ]
     },
     "execution_count": 19,
     "metadata": {},
     "output_type": "execute_result"
    }
   ],
   "source": [
    "demo_list[0]"
   ]
  },
  {
   "cell_type": "code",
   "execution_count": 20,
   "id": "union-edmonton",
   "metadata": {},
   "outputs": [
    {
     "ename": "TypeError",
     "evalue": "'set' object is not subscriptable",
     "output_type": "error",
     "traceback": [
      "\u001b[0;31m---------------------------------------------------------------------------\u001b[0m",
      "\u001b[0;31mTypeError\u001b[0m                                 Traceback (most recent call last)",
      "\u001b[0;32m<ipython-input-20-ec771d34ca6a>\u001b[0m in \u001b[0;36m<module>\u001b[0;34m\u001b[0m\n\u001b[1;32m      1\u001b[0m \u001b[0;31m#TODO\u001b[0m\u001b[0;34m\u001b[0m\u001b[0;34m\u001b[0m\u001b[0;34m\u001b[0m\u001b[0m\n\u001b[0;32m----> 2\u001b[0;31m \u001b[0mdemo_set\u001b[0m\u001b[0;34m[\u001b[0m\u001b[0;36m0\u001b[0m\u001b[0;34m]\u001b[0m\u001b[0;34m\u001b[0m\u001b[0;34m\u001b[0m\u001b[0m\n\u001b[0m",
      "\u001b[0;31mTypeError\u001b[0m: 'set' object is not subscriptable"
     ]
    }
   ],
   "source": [
    "#TODO\n",
    "demo_set[0]"
   ]
  },
  {
   "cell_type": "markdown",
   "id": "iraqi-merchant",
   "metadata": {},
   "source": [
    "## Q4. What special operations can we perform on sets? How do we add and remove items from them?\n",
    "\n",
    "The three main operations are \n",
    "- union: `s1 | s2` or `s1.union(s2)`; \n",
    "- intersection: `s1 & s2` or `s1.intersection(s2)`;\n",
    "- difference: `s1 - s2` or `s1.difference(s2)`. Pay attention to the Minuend and Subtraction\n",
    "\n",
    "![](uH6cL.png)"
   ]
  },
  {
   "cell_type": "code",
   "execution_count": 27,
   "id": "9fa4637c",
   "metadata": {},
   "outputs": [
    {
     "data": {
      "text/plain": [
       "{1, 4}"
      ]
     },
     "execution_count": 27,
     "metadata": {},
     "output_type": "execute_result"
    }
   ],
   "source": [
    "s1 = {1,2,3}\n",
    "s2 = {2,3,4}\n",
    "\n",
    "(s1 - s2) | (s2 - s1)"
   ]
  },
  {
   "cell_type": "markdown",
   "id": "bea85352",
   "metadata": {},
   "source": [
    "- Adding an item is possible with the `.add(item)` method and removing an item is done with the `.remove(item)` method.\n",
    "\n",
    "- Note that since a pair of empty braces `{}` denotes an empty dictionary, we use `set()` in order to create an empty set."
   ]
  },
  {
   "cell_type": "code",
   "execution_count": 28,
   "id": "hydraulic-quilt",
   "metadata": {},
   "outputs": [
    {
     "name": "stdout",
     "output_type": "stream",
     "text": [
      "{1, 2, 3, 4} {3, 4, 5, 6, 7}\n",
      "After removing 7:  {3, 4, 5, 6}\n",
      "union of s1 and s2:  {1, 2, 3, 4, 5, 6}\n",
      "intersection of s1 and s2:  {3, 4}\n",
      "difference of s1 towards s2:  {1, 2}\n",
      "difference of s2 towards s1:  {5, 6}\n"
     ]
    }
   ],
   "source": [
    "s1,s2 = set(),set() # declare two empty sets\n",
    "\n",
    "\n",
    "for i in [1,2,3,4]:\n",
    "    s1.add(i)       # add item in set\n",
    "    \n",
    "    \n",
    "for i in [3,4,5,6,7]:\n",
    "    s2.add(i)\n",
    "    \n",
    "print(s1,s2)\n",
    "s2.remove(7)        # remove 7 from s2\n",
    "print(\"After removing 7: \",s2)\n",
    "\n",
    "\n",
    "print(\"union of s1 and s2: \",s1|s2)\n",
    "print(\"intersection of s1 and s2: \",s1&s2)\n",
    "print(\"difference of s1 towards s2: \",s1-s2)\n",
    "print(\"difference of s2 towards s1: \",s2-s1)"
   ]
  },
  {
   "cell_type": "code",
   "execution_count": null,
   "id": "f37606b0",
   "metadata": {},
   "outputs": [],
   "source": []
  },
  {
   "cell_type": "markdown",
   "id": "failing-address",
   "metadata": {},
   "source": [
    "## Exercise 1\n",
    "\n",
    "![](e01.png)\n",
    "\n",
    "____\n",
    "\n",
    "![](e02.png)\n"
   ]
  },
  {
   "cell_type": "code",
   "execution_count": null,
   "id": "ed8a1609",
   "metadata": {},
   "outputs": [],
   "source": [
    "s1 = {1, 2, 4}\n",
    "s2 = {3, 4, 5}\n",
    "\n",
    "s1.intersection(s2)"
   ]
  },
  {
   "cell_type": "markdown",
   "id": "moving-paintball",
   "metadata": {},
   "source": [
    "## Q5. What is None? How is it used?\n",
    "\n",
    "`None` is a special value in Python, notable for being what’s passed as the return value of a function when no return value is specified. It can therefore be used to represent the absence of a result, perhaps as a somewhat third option to a True/False boolean result. `None` is the value you will find if you assign the “output” from many mutating methods such as `.append()` which do not return anything. `None` is its own type, so no value of any other type has equality with it."
   ]
  },
  {
   "cell_type": "code",
   "execution_count": 29,
   "id": "blind-manner",
   "metadata": {},
   "outputs": [
    {
     "name": "stdout",
     "output_type": "stream",
     "text": [
      "else executed\n"
     ]
    }
   ],
   "source": [
    "var = None\n",
    "\n",
    "if var:\n",
    "    print('if executed')\n",
    "else:\n",
    "    print('else executed')"
   ]
  },
  {
   "cell_type": "code",
   "execution_count": 32,
   "id": "56d57497",
   "metadata": {},
   "outputs": [
    {
     "name": "stdout",
     "output_type": "stream",
     "text": [
      "None\n"
     ]
    }
   ],
   "source": [
    "l1 = [1,2, 3]\n",
    "var = l1.append(4)\n",
    "print(var)"
   ]
  },
  {
   "cell_type": "markdown",
   "id": "sixth-illinois",
   "metadata": {},
   "source": [
    "## Q6. What is the difference between `sorted()` and `.sort()` when applied to a list? What does it mean to edit an object “in-place”?\n",
    "\n",
    "### A perfect consolidation of comparing mutation/immutation operation\n",
    "\n",
    "Say we’re talking about a list `my_list`. Both `sorted(my_list)` and `my_list.sort()` will sort `my_list`. \n",
    "\n",
    "`sorted(my_list)` will **return a new list** which contains the items of my_list in sorted order. my_list is left unchanged by this function. \n",
    "\n",
    "`my_list.sort()` on the other hand, will **mutate `my_list`**, changing the order of its items to sort it. Nothing is returned from this method (None if you try to assign its output) because it does its work directly on the list. The original order of items in my_list is overwritten.\n",
    "\n",
    "Editing an object **in-place** means **mutating** it: editing it directly without creating a copy or returning a new obejct. It can be dangerous if you’re not sure you want your data to be changed so be careful!"
   ]
  },
  {
   "cell_type": "code",
   "execution_count": 33,
   "id": "6b07626d",
   "metadata": {},
   "outputs": [
    {
     "name": "stdout",
     "output_type": "stream",
     "text": [
      "[16, 12, 20, 0, 2, 12, 19, 9, 5, 18]\n"
     ]
    }
   ],
   "source": [
    "# randomly generate a list of integers\n",
    "import random\n",
    "nums = [random.randint(0, 20) for _ in range(10)]\n",
    "print(nums)"
   ]
  },
  {
   "cell_type": "code",
   "execution_count": 34,
   "id": "9d84846f",
   "metadata": {},
   "outputs": [
    {
     "name": "stdout",
     "output_type": "stream",
     "text": [
      "[0, 2, 5, 9, 12, 12, 16, 18, 19, 20]\n",
      "[16, 12, 20, 0, 2, 12, 19, 9, 5, 18]\n"
     ]
    }
   ],
   "source": [
    "sorted_nums = sorted(nums)\n",
    "print(sorted_nums)\n",
    "print(nums)"
   ]
  },
  {
   "cell_type": "code",
   "execution_count": 35,
   "id": "interpreted-avatar",
   "metadata": {},
   "outputs": [
    {
     "name": "stdout",
     "output_type": "stream",
     "text": [
      "None\n",
      "[0, 2, 5, 9, 12, 12, 16, 18, 19, 20]\n"
     ]
    }
   ],
   "source": [
    "dot_sort_nums = nums.sort()\n",
    "print(dot_sort_nums)\n",
    "print(nums)\n"
   ]
  },
  {
   "cell_type": "markdown",
   "id": "timely-bridal",
   "metadata": {},
   "source": [
    "## Problems"
   ]
  },
  {
   "cell_type": "markdown",
   "id": "5da3e9a7",
   "metadata": {},
   "source": [
    "![](p01.png)"
   ]
  },
  {
   "cell_type": "code",
   "execution_count": 37,
   "id": "minor-disorder",
   "metadata": {},
   "outputs": [
    {
     "data": {
      "text/plain": [
       "{'b': 2, 'o': 4}"
      ]
     },
     "execution_count": 37,
     "metadata": {},
     "output_type": "execute_result"
    }
   ],
   "source": [
    "def freq_counts(arg):\n",
    "    # finish this block\n",
    "    freq = dict()\n",
    "    \n",
    "    for char in arg:\n",
    "        if char in freq:\n",
    "            freq[char] += 1  # manipulation of values\n",
    "        else:\n",
    "            freq[char] = 1  # assignment\n",
    "    \n",
    "    return freq\n",
    "    \n",
    "    # finish block above\n",
    "\n",
    "freq_counts('booboo')\n",
    "    "
   ]
  },
  {
   "cell_type": "markdown",
   "id": "2b0d028c",
   "metadata": {},
   "source": [
    "![](p02.png)"
   ]
  },
  {
   "cell_type": "code",
   "execution_count": 39,
   "id": "eddac248",
   "metadata": {},
   "outputs": [
    {
     "name": "stdout",
     "output_type": "stream",
     "text": [
      "[4]\n"
     ]
    }
   ],
   "source": [
    "def in_common(list1, list2):\n",
    "    # finish this block\n",
    "    s1, s2 = set(list1), set(list2)\n",
    "    \n",
    "    result = s1.intersection(s2)\n",
    "    \n",
    "    return list(result)\n",
    "    \n",
    "    \n",
    "    # finish block above\n",
    "\n",
    "result = in_common([1,2,4], [3,4,5])\n",
    "print(result)"
   ]
  },
  {
   "cell_type": "markdown",
   "id": "22e6b990",
   "metadata": {},
   "source": [
    "![](p03.png)"
   ]
  },
  {
   "cell_type": "code",
   "execution_count": 1,
   "id": "26e1e072",
   "metadata": {},
   "outputs": [
    {
     "name": "stdout",
     "output_type": "stream",
     "text": [
      "[0, 1]\n"
     ]
    }
   ],
   "source": [
    "def unique_values(d):\n",
    "    # finish this block\n",
    "    \n",
    "    values = d.values()\n",
    "    set_values = set(values)\n",
    "    sorted_values = sorted(set_values)\n",
    "    return sorted_values\n",
    "    \n",
    "    # finish block above\n",
    "    \n",
    "\n",
    "result = unique_values({'a': 1, 'b': 0, 'c': 0})\n",
    "print(result)\n",
    "    "
   ]
  },
  {
   "cell_type": "markdown",
   "id": "ff23f171",
   "metadata": {},
   "source": [
    "![](p04.png)"
   ]
  },
  {
   "cell_type": "code",
   "execution_count": 40,
   "id": "acf2e1b1",
   "metadata": {},
   "outputs": [
    {
     "name": "stdout",
     "output_type": "stream",
     "text": [
      "True\n"
     ]
    }
   ],
   "source": [
    "def above_thresh(text, char, threshold):\n",
    "    # finish this block\n",
    "    if char not in text:\n",
    "        return None\n",
    "    \n",
    "    freq = freq_counts(text)\n",
    "    \n",
    "    \n",
    "    if freq[char] > threshold:\n",
    "        return True\n",
    "    else:\n",
    "        return False\n",
    "    \n",
    "\n",
    "    # finish block above\n",
    "    \n",
    "result = above_thresh('I like the letter e', 'e', 3)\n",
    "print(result)"
   ]
  },
  {
   "cell_type": "code",
   "execution_count": null,
   "id": "d9da48b8",
   "metadata": {},
   "outputs": [],
   "source": []
  }
 ],
 "metadata": {
  "kernelspec": {
   "display_name": "Python 3",
   "language": "python",
   "name": "python3"
  },
  "language_info": {
   "codemirror_mode": {
    "name": "ipython",
    "version": 3
   },
   "file_extension": ".py",
   "mimetype": "text/x-python",
   "name": "python",
   "nbconvert_exporter": "python",
   "pygments_lexer": "ipython3",
   "version": "3.7.7"
  }
 },
 "nbformat": 4,
 "nbformat_minor": 5
}
