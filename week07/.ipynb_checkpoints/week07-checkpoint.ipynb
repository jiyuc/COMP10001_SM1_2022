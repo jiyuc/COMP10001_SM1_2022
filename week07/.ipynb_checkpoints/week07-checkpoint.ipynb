{
 "cells": [
  {
   "cell_type": "markdown",
   "id": "c158d84f",
   "metadata": {},
   "source": [
    "## <p style=\"text-align: center\">COMP10001 Foundations of Computing<br>Semester 1, 2022<br>Tutorial Questions: Week 7 -- Style of Coding</p>\n",
    "### <p style=\"text-align: center\">Tutor: Jiyu Chen  ~ *Freddie* <br>(temporarily shift with Tianyi Zhang)</p>"
   ]
  },
  {
   "cell_type": "markdown",
   "id": "administrative-emerald",
   "metadata": {},
   "source": [
    "### 1. Why is it important to write comments for the code we write? Wouldn’t it save time, storage space and processing time to write code without comments?\n",
    "\n",
    "- **Code maintainance**\n",
    "\n",
    "Comments are important so that others looking at our code in the future are able to understand what it intends to do and why we’ve made certain choices about how it is written. In the case that some code must be edited after it is first written, comments help guide whoever is maintaining the code to follow what the code does (or if they wrote it, remember what they were thinking when they wrote it in the first place).\n",
    "\n",
    "- **Code readability**\n",
    "\n",
    "It is said that code is far more often read than it is written, and while Python’s friendly syntax helps with readability, comments communicate program structure to a reader far more effectively.\n",
    "It would save time to not write comments, but in the long term much time would be wasted debugging if it’s impossible to tell what the code does and why it was written the way it is. The time taken to properly document code is more than made up for in how less error-prone and how much easier to read it is.  \n",
    "\n",
    "- **Comments are zero-cost**\n",
    "\n",
    "All comments are discarded before a program is run, so there’s no performance cost for them to be there."
   ]
  },
  {
   "cell_type": "markdown",
   "id": "determined-davis",
   "metadata": {},
   "source": [
    "### 2. What is a “docstring”? What is its purpose?\n",
    "\n",
    "A docstring is like a big comment which we write for a **function to describe its operation**. It helps anyone using your function to understand what it does. It’s important to include in the docstring any inputs and outputs of the function, as well as any important information about what it does. Along with general comments, good docstrings are key to well-documented and readable code."
   ]
  },
  {
   "cell_type": "code",
   "execution_count": 19,
   "id": "broke-scenario",
   "metadata": {},
   "outputs": [
    {
     "name": "stdout",
     "output_type": "stream",
     "text": [
      "Takes in an integer as input, returns the squared result of this integer\n"
     ]
    }
   ],
   "source": [
    "def cal_square(n):\n",
    "    '''Takes in an integer as input, \n",
    "    returns the squared result of this integer'''\n",
    "    \n",
    "    return n**2\n",
    "\n",
    "# access docstring of any function using print(func.__doc__)\n",
    "print(cal_square.__doc__)"
   ]
  },
  {
   "cell_type": "code",
   "execution_count": 17,
   "id": "91d24de4",
   "metadata": {},
   "outputs": [
    {
     "name": "stdout",
     "output_type": "stream",
     "text": [
      "Return a new list containing all items from the iterable in ascending order.\n",
      "\n",
      "A custom key function can be supplied to customize the sort order, and the\n",
      "reverse flag can be set to request the result in descending order.\n"
     ]
    }
   ],
   "source": [
    "# A tip: learn to use documentations (not examinable but good to know)\n",
    "print(sorted.__doc__)"
   ]
  },
  {
   "cell_type": "markdown",
   "id": "acknowledged-highland",
   "metadata": {},
   "source": [
    "### Exercise 1. \n",
    "\n",
    "Fill in the blanks with **comments** and a **docstring** for the following function, which finds the most popular animals by counting ballots. An example for ballots is `['dog', 'python', 'cat', 'python', 'dog']`, in which case the function returns `['dog', 'python']`. There’s no definite right or wrong answer here, try and develop your style."
   ]
  },
  {
   "cell_type": "markdown",
   "id": "4e06a926",
   "metadata": {},
   "source": [
    "_____\n",
    "```\n",
    "def favourite_animal(ballots):\n",
    "    ''' '''\n",
    "    \n",
    "    tally = {}  # ....\n",
    "     \n",
    "    # ...\n",
    "    for animal in ballots:\n",
    "        if animal in tally:\n",
    "            tally[animal] += 1\n",
    "        else:\n",
    "            tally[animal] = 1\n",
    "            \n",
    "    # ...\n",
    "    most_votes = max(tally.values())\n",
    "    favourites = []\n",
    "    for animal, votes in tally.items():\n",
    "        if votes == most_votes:\n",
    "            favourites.append(animal)\n",
    "    return favourites\n",
    "```"
   ]
  },
  {
   "cell_type": "code",
   "execution_count": 9,
   "id": "heard-replica",
   "metadata": {},
   "outputs": [],
   "source": [
    "def favourite_animal(ballots):\n",
    "    ''' Takes a list ‘ballots‘ as input. \n",
    "    Counts the frequency of each animal in ‘ballots‘. \n",
    "    Returns a list of the most frequentently voted animals.'''\n",
    "    \n",
    "    tally = {}  # dictionary for counting the ballots\n",
    "     \n",
    "    # Counts frequencies of each animal in the ballots.\n",
    "    for animal in ballots:\n",
    "        if animal in tally:\n",
    "            tally[animal] += 1\n",
    "        else:\n",
    "            tally[animal] = 1\n",
    "            \n",
    "    # Find and store the animals that received the highest number of votes.\n",
    "    most_votes = max(tally.values()) # 2\n",
    "    favourites = []\n",
    "    for animal, votes in tally.items():\n",
    "        if votes == most_votes:\n",
    "            favourites.append(animal)\n",
    "    return favourites"
   ]
  },
  {
   "cell_type": "markdown",
   "id": "prerequisite-davis",
   "metadata": {},
   "source": [
    "### 3. How should we choose variable names? How do good variable names add to the readability of code?\n",
    "\n",
    "Variable names should accurately name the object they’re storing. They should allow code to be **readable and easy to maintain**, so the reader can understand which information is being passed around, processed and stored based on which variables are in use. \n",
    "\n",
    "If bad variable names, such as arbitrary a, b, c ect. are used, it is much harder to understand what data is being stored. It’s good practice to **write names reflecting what the variable represents**, not what it stores: for example name instead of string.\n",
    "\n",
    "**(0) meaningful name**\n",
    "\n",
    "    e.g., a = 21, age = 21\n",
    "\n",
    "**(1) lower initial**\n",
    "\n",
    "    one exception: use all-capitals for magic numbers (cover this later)\n",
    "\n",
    "**(2) not a literal**\n",
    "\n",
    "    e.g., int = 3 is a not recommended\n",
    "\n",
    "**(3a) connect English words with underscore**\n",
    "\n",
    "    e.g., email_addr = \"xxx@unimelb.edu.au\"\n",
    "    \n",
    "\n",
    "**(3b) connect English words in hump style (a bit Java)**\n",
    "    \n",
    "    e.g., emailAddr = \"xxx@unimelb.edu.au\"\n",
    "   \n"
   ]
  },
  {
   "cell_type": "markdown",
   "id": "animated-quality",
   "metadata": {},
   "source": [
    "### 4. What are “magic numbers”? How do we write code without them by using global constants?\n",
    "\n",
    "Magic numbers are **constants** which are written into code as **literals**, making it very difficult to understand what their purpose is. An example could be a threshold such as a pass mark: if written as `if mark > 0.5:` the meaning of `0.5` is obscured, just like using a bad variable name. Instead, we should store these values as **global variables** named with capital letters at the top of our program: `PASS_MARK = 0.5` and then refer to that variable where necessary in the code: `if mark > PASS_MARK:`\n",
    "\n",
    "The **all-capital** letters indicate that the variable is actually a **constant**,and our code will **never change its value** (using global variables in other contexts is bad style). This makes our code much more **readable and easy to maintain** because we can see where we are using a constant value by the capital letters and understand what it represents. We can also edit the value of a constant easily at the top of our program and that change applied to every place that constant is used in our program."
   ]
  },
  {
   "cell_type": "code",
   "execution_count": 2,
   "id": "naval-intensity",
   "metadata": {},
   "outputs": [
    {
     "name": "stdout",
     "output_type": "stream",
     "text": [
      "Baillieu Library\n",
      "Baillieu Library\n"
     ]
    }
   ],
   "source": [
    "LOCATION = 0  # magic numbers <all-capitalised, constant>\n",
    "PERSON = 1\n",
    "DAY = 2\n",
    "ARR_H = 3\n",
    "ARR_M = 4\n",
    "LEFT_H = 5\n",
    "LEFT_M = 6\n",
    "\n",
    "track_record = ('Baillieu Library','Alex',2,10,30,12,20)\n",
    "\n",
    "\n",
    "print(track_record[LOCATION]) # easy to read 🍰 \n",
    "print(track_record[0]) # hard to read 😱"
   ]
  },
  {
   "cell_type": "markdown",
   "id": "following-significance",
   "metadata": {},
   "source": [
    "### Exercises 2. \n",
    "\n",
    "Consider the following programs. What are the problematic aspects of their **variable names** and use of **magic numbers**? What improvements would you make to improve readability?"
   ]
  },
  {
   "cell_type": "markdown",
   "id": "d7cffd0f",
   "metadata": {},
   "source": [
    "### (a)"
   ]
  },
  {
   "cell_type": "code",
   "execution_count": 4,
   "id": "dutch-people",
   "metadata": {},
   "outputs": [
    {
     "name": "stdout",
     "output_type": "stream",
     "text": [
      "Enter days: 1\n",
      "There are 24.0 hours, 1440.0 minutes, 86400.0 seconds in 1.0 days\n"
     ]
    }
   ],
   "source": [
    "\n",
    "a = float(input(\"Enter days: \"))\n",
    "b = a * 24\n",
    "c = b * 60\n",
    "d = c * 60\n",
    "print(\"There are\", b, \"hours,\", c, \"minutes,\", d, \"seconds in\", a, \"days\")"
   ]
  },
  {
   "cell_type": "code",
   "execution_count": 5,
   "id": "vocal-holiday",
   "metadata": {
    "slideshow": {
     "slide_type": "-"
    }
   },
   "outputs": [
    {
     "name": "stdout",
     "output_type": "stream",
     "text": [
      "Enter days: 1\n",
      "There are 24.0 hours, 1440.0 minutes 86400.0 seconds in 1.0 days\n"
     ]
    }
   ],
   "source": [
    "HOUR_DAY = 24\n",
    "MINUTE_HOUR = 60\n",
    "SECOND_MINUTE = 60\n",
    "days = float(input(\"Enter days: \"))\n",
    "hours = days * HOUR_DAY\n",
    "minutes = hours * MINUTE_HOUR\n",
    "seconds = minutes * SECOND_MINUTE\n",
    "print(\"There are\", hours, \"hours,\", minutes,\n",
    "      \"minutes\", seconds, \"seconds in\", days, \"days\")"
   ]
  },
  {
   "cell_type": "markdown",
   "id": "e5b77779",
   "metadata": {},
   "source": [
    "### (b)"
   ]
  },
  {
   "cell_type": "code",
   "execution_count": 6,
   "id": "native-visiting",
   "metadata": {},
   "outputs": [
    {
     "name": "stdout",
     "output_type": "stream",
     "text": [
      "Enter text: apple juice tomato\n",
      "Above threshold\n"
     ]
    }
   ],
   "source": [
    "#(b)\n",
    "word = input(\"Enter text: \")\n",
    "words = 0 # count number of word\n",
    "vowels = 0\n",
    "word_2 = word.split()\n",
    "for word_3 in word_2:\n",
    "    words += 1\n",
    "    for word_4 in word_3:\n",
    "        word_5 = word_4.lower()\n",
    "        if word_5 in \"aeiou\":\n",
    "            vowels += 1\n",
    "if vowels/words > 0.4:\n",
    "    print(\"Above threshold\")"
   ]
  },
  {
   "cell_type": "code",
   "execution_count": null,
   "id": "hidden-roads",
   "metadata": {
    "tags": [
     "hide_cell"
    ]
   },
   "outputs": [],
   "source": [
    "THRESHOLD = 0.4\n",
    "\n",
    "text = input(\"Enter text: \")\n",
    "n_words = 0\n",
    "n_vowels = 0\n",
    "words = text.split()\n",
    "for word in words:\n",
    "    n_words += 1\n",
    "    for letter in word:\n",
    "        letter = letter.lower()\n",
    "    if letter in \"aeiou\":\n",
    "            n_vowels += 1\n",
    "            \n",
    "if n_vowels/n_words > THRESHOLD:\n",
    "    print(\"Above threshold\")"
   ]
  },
  {
   "cell_type": "markdown",
   "id": "99183a2e",
   "metadata": {},
   "source": [
    "### 5. What do we mean by “mutability”? Which data types are mutable out of what we’ve seen?\n",
    "\n",
    "If an object is **mutable**, its contents **CAN** be changed after it’s created. Immutable objects cannot be changed. Instead, it create a new object (e.g., `a += 1` creates a new integer assigned to the same variable name). \n",
    "\n",
    "Mutable objects include `list`, `dict` and `set`.\n",
    "\n",
    "Immutable objects are `int`, `float`, `str` and `tuple`.\n"
   ]
  },
  {
   "cell_type": "code",
   "execution_count": 3,
   "id": "a08f72e6",
   "metadata": {},
   "outputs": [
    {
     "name": "stdout",
     "output_type": "stream",
     "text": [
      "foo before operation ['hi']\n",
      "foo after operation ['hi', 'bye']\n",
      "bar ['hi', 'bye']\n"
     ]
    }
   ],
   "source": [
    "foo = ['hi']\n",
    "print('foo before operation', foo)\n",
    "\n",
    "\n",
    "bar = foo\n",
    "bar += ['bye']\n",
    "\n",
    "print('foo after operation',foo)\n",
    "print('bar', bar)\n"
   ]
  },
  {
   "cell_type": "code",
   "execution_count": 2,
   "id": "57eeb350",
   "metadata": {},
   "outputs": [
    {
     "name": "stdout",
     "output_type": "stream",
     "text": [
      "foo before operation 1\n",
      "foo after operation 1\n",
      "bar 3\n"
     ]
    }
   ],
   "source": [
    "foo = 1\n",
    "print('foo before operation', foo)\n",
    "\n",
    "bar = foo\n",
    "bar += 2\n",
    "\n",
    "print('foo after operation',foo)\n",
    "print('bar',bar)\n"
   ]
  },
  {
   "cell_type": "markdown",
   "id": "1193965a",
   "metadata": {},
   "source": [
    "### 6.  What is a “namespace”?\n",
    "\n",
    "A namespace is a mapping from names (of variables or functions) to objects. It defines the collection of variables which can be used in a certain part of your program.\n",
    "\n",
    "### 7. What do we mean by “local” and “global” namespace? What is “scope”?\n",
    "\n",
    "The **global namespace** is the collection of variables and functions available outside of any functions in a program. \n",
    "\n",
    "When a function is called, it will have a **local namespace** which is unique to that function’s execution and forgotten once it returns. \n",
    "\n",
    "\n",
    "When a variable is referred to, Python looks in the most local namespace first, and if it can’t be found there, proceeds to check the global namespace. This means a function can use its local variables and global variables **BUT NOT** variables defined in another function. \n",
    "\n",
    "There is also the subtlety that variables not in the local namespace may not be edited without declaring that you intend to do so. We discourage the editing of global variables from inside a function because it is safer to return values from your function.\n",
    "\n",
    "\n",
    "Scope is the area of a program where a particular namespace is used. Variables in a function’s local namespace are said to be in the function’s scope.\n",
    "Note that a function defined in another (while a strange thing to do) will be able to read the variables in the outer function, given they’re not “overshadowed” by variables with the same name in the inner function. Think of it like a venn diagram - if a function is inside another, it can access anything directly outside it. Any function can therefore access the global namespace."
   ]
  },
  {
   "cell_type": "code",
   "execution_count": 4,
   "id": "b07d8473",
   "metadata": {},
   "outputs": [
    {
     "name": "stdout",
     "output_type": "stream",
     "text": [
      "var in function 0\n",
      "var outside function 3\n"
     ]
    }
   ],
   "source": [
    "var = 3  # global\n",
    "\n",
    "def function():\n",
    "    var = 0  # locally declared\n",
    "    print('var in function', var)\n",
    "    return var\n",
    "\n",
    "function()\n",
    "print('var outside function', var)\n"
   ]
  },
  {
   "cell_type": "code",
   "execution_count": 5,
   "id": "014ec04c",
   "metadata": {},
   "outputs": [
    {
     "name": "stdout",
     "output_type": "stream",
     "text": [
      "var in function 3\n",
      "var outside the function 3\n"
     ]
    }
   ],
   "source": [
    "var = 3  # global\n",
    "\n",
    "def function():\n",
    "    print('var in function', var)\n",
    "    return var\n",
    "\n",
    "function()\n",
    "print('var outside the function', var)"
   ]
  },
  {
   "cell_type": "markdown",
   "id": "b09fe9f1",
   "metadata": {},
   "source": [
    "### Exercise 3. What is the output of this code? Why?\n"
   ]
  },
  {
   "cell_type": "code",
   "execution_count": 8,
   "id": "81b8c5df",
   "metadata": {},
   "outputs": [
    {
     "name": "stdout",
     "output_type": "stream",
     "text": [
      "[1, 2]\n",
      "mid-mystery: [2, 2, 5]\n",
      "[2, 2, 5]\n",
      "mid-mystery: [3, 2, 5, 5]\n",
      "[2, 2, 5]\n"
     ]
    }
   ],
   "source": [
    "def mystery(x):\n",
    "    x.append(5)\n",
    "    x[0] += 1\n",
    "    print(\"mid-mystery:\", x)\n",
    "    \n",
    "my_list = [1,2]\n",
    "print(my_list)\n",
    "\n",
    "mystery(my_list)\n",
    "print(my_list)\n",
    "\n",
    "mystery(my_list.copy())\n",
    "print(my_list)"
   ]
  },
  {
   "cell_type": "code",
   "execution_count": 10,
   "id": "d7653d0d",
   "metadata": {},
   "outputs": [
    {
     "name": "stdout",
     "output_type": "stream",
     "text": [
      "2\n",
      "1\n"
     ]
    }
   ],
   "source": [
    "x = 1\n",
    "def function(x):\n",
    "    x += 1\n",
    "    print(x)\n",
    "    \n",
    "function(x)\n",
    "print(x)"
   ]
  },
  {
   "cell_type": "markdown",
   "id": "a3c3c8bd",
   "metadata": {},
   "source": [
    "### Exercise 4. What is the output of the following code? Classify the variables by which namespace they belong in."
   ]
  },
  {
   "cell_type": "code",
   "execution_count": null,
   "id": "29980958",
   "metadata": {},
   "outputs": [],
   "source": [
    "def foo(x, y):\n",
    "    a = 42\n",
    "    x, y = y, x\n",
    "    print(a, b, x, y)\n",
    "    \n",
    "a, b, x, y = 1, 2, 3, 4\n",
    "foo(17, 4)\n",
    "print(a, b, x, y)"
   ]
  },
  {
   "cell_type": "markdown",
   "id": "distinct-village",
   "metadata": {},
   "source": [
    "### 8. When is it useful to “return early”? How can it make our code safer and more efficient?\n",
    "\n",
    "**returning early** is where during a long-running computation the answer is returned as soon as it is known rather than waiting for the process to complete. \n",
    "\n",
    "- When to use?\n",
    "\n",
    "It’s often used in the case where a sequence of values is iterated through and a test applied to each one. If we’re looking to find whether one value fulfils the test, we can return a True result as soon as we find a single such value: There’s no need to continue testing the rest of the values as nothing will change the output from being True. This increases the efficiency of the program.\n",
    "\n",
    "This principle is also used in a concept called “short circuiting” in boolean tests where a result is returned as soon as it is known based on the rules of `and` and `or`.For example, `if num != 0 and 4/num == 2:` would never cause an error as a false first statement (where `num = 0`) would cause a `False` response to be sent immediately without needing to execute the division by zero which would cause a `ZeroDivisionError`. This can make code safer.\n",
    "\n",
    "```\n",
    "def find_music(name):\n",
    "    \n",
    "    for music in library:\n",
    "        if music == name:\n",
    "            return music  # early return\n",
    "        \n",
    "    return None\n",
    "    \n",
    "```"
   ]
  },
  {
   "cell_type": "markdown",
   "id": "cf5dbc6e",
   "metadata": {},
   "source": [
    "### Exercise 5. Compare the two functions below. Are they equivalent? Why would we prefer one over the other?\n",
    "\n",
    "```\n",
    "def noletter_1(words, letter='z'):\n",
    "    for word in words:\n",
    "        if letter in word:\n",
    "            return False\n",
    "    return True\n",
    "```\n",
    "__________\n",
    "```\n",
    "def noletter_2(words, letter='z'):\n",
    "    no_z = True\n",
    "    for word in words:\n",
    "        if letter in word:\n",
    "            no_z = False\n",
    "    return no_z\n",
    "```\n",
    "__________\n",
    "```\n",
    "wordlist = ['zizzer'] + ['aardvark'] * 1000000\n",
    "print(noletter_1(wordlist))\n",
    "print(noletter_2(wordlist))\n",
    "```"
   ]
  },
  {
   "cell_type": "markdown",
   "id": "d43de4ae",
   "metadata": {},
   "source": [
    "### 9. What are helper functions? How can they make our code more readable and reusable?\n",
    "\n",
    "A helper function is a function that performs some part of the computation of another function. Helper functions can make programs more readable by giving descriptive names to computations. By taking computations out of a function and placing them in helper functions, we can then reuse those helper functions if we ever need that computation again. This is much easier than selectively cutting out parts of a larger function."
   ]
  },
  {
   "cell_type": "code",
   "execution_count": null,
   "id": "55de5ec7",
   "metadata": {},
   "outputs": [],
   "source": [
    "def favourite_animal(ballots):\n",
    "    ''' Takes a list ‘ballots‘ as input. \n",
    "    Counts the frequency of each animal in ‘ballots‘. \n",
    "    Returns a list of the most frequentently voted animals.'''\n",
    "    \n",
    "    tally = {}  # ....\n",
    "     \n",
    "    # Counts frequencies of each animal in the ballots.\n",
    "    for animal in ballots:\n",
    "        if animal in tally:\n",
    "            tally[animal] += 1\n",
    "        else:\n",
    "            tally[animal] = 1\n",
    "            \n",
    "    # Find and store the animals that received the highest number of votes.\n",
    "    most_votes = max(tally.values()) # 2\n",
    "    favourites = []\n",
    "    for animal, votes in tally.items():\n",
    "        if votes == most_votes:\n",
    "            favourites.append(animal)\n",
    "    return favourites"
   ]
  },
  {
   "cell_type": "code",
   "execution_count": null,
   "id": "pending-draft",
   "metadata": {},
   "outputs": [],
   "source": []
  }
 ],
 "metadata": {
  "kernelspec": {
   "display_name": "Python 3",
   "language": "python",
   "name": "python3"
  },
  "language_info": {
   "codemirror_mode": {
    "name": "ipython",
    "version": 3
   },
   "file_extension": ".py",
   "mimetype": "text/x-python",
   "name": "python",
   "nbconvert_exporter": "python",
   "pygments_lexer": "ipython3",
   "version": "3.7.7"
  }
 },
 "nbformat": 4,
 "nbformat_minor": 5
}
