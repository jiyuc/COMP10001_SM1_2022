{
 "cells": [
  {
   "cell_type": "code",
   "execution_count": 5,
   "id": "411f6b6e",
   "metadata": {},
   "outputs": [],
   "source": [
    "! pip install nltk\n",
    "import nltk\n",
    "nltk.download('brown')\n",
    "from nltk.corpus import brown\n",
    "article = brown.words()[:300]"
   ]
  },
  {
   "cell_type": "markdown",
   "id": "adaptive-start",
   "metadata": {},
   "source": [
    "## <p style=\"text-align: center\">COMP10001 Foundations of Computing<br>Semester 1, 2022<br>Tutorial Questions: Week 8 </p>\n",
    "### <p style=\"text-align: center\">Tutor: Jiyu Chen  ~ *Freddie* </p>"
   ]
  },
  {
   "cell_type": "markdown",
   "id": "cheap-member",
   "metadata": {},
   "source": [
    "## 1. What is a “library”? How do we access them?\n",
    "\n",
    "A library contains a group of methods or variables which can extend Python to perform more diverse operations. To access the contents of a library, we import it using the `import` keyword. This adds the module to our program’s namespace so it can be used. \n",
    "\n",
    "- `import <library>` imports the entire library, with any methods or constants it contains. \n",
    "\n",
    "- `from <library> import <name>` imports a particular method or value from that library.\n",
    "\n",
    "For example, let's create a mini library and import it into our project"
   ]
  },
  {
   "cell_type": "code",
   "execution_count": 1,
   "id": "employed-egyptian",
   "metadata": {},
   "outputs": [
    {
     "name": "stdout",
     "output_type": "stream",
     "text": [
      "second!\n"
     ]
    }
   ],
   "source": [
    "import my_library\n",
    "a = my_library.second_cls()"
   ]
  },
  {
   "cell_type": "code",
   "execution_count": 2,
   "id": "5a1c3606",
   "metadata": {},
   "outputs": [
    {
     "name": "stdout",
     "output_type": "stream",
     "text": [
      "first!\n"
     ]
    }
   ],
   "source": [
    "from my_library import first_cls\n",
    "a = first_cls()"
   ]
  },
  {
   "cell_type": "code",
   "execution_count": 4,
   "id": "e30033a2",
   "metadata": {},
   "outputs": [
    {
     "name": "stdout",
     "output_type": "stream",
     "text": [
      "Melbourne\n"
     ]
    }
   ],
   "source": [
    "from my_library import LOCATION\n",
    "print(LOCATION)"
   ]
  },
  {
   "cell_type": "markdown",
   "id": "fantastic-accent",
   "metadata": {},
   "source": [
    "## 2. What is a “defaultdict”? How do we initialise and use it?\n",
    "\n",
    "A `defaultdict` is a data type contained in the `<collections>` library. https://docs.python.org/3/library/collections.html#collections.defaultdict\n",
    "\n",
    "\n",
    "It has the same behaviour as a **dictionary** with the added functionality of initialising new keys to a default value when trying to use them. To use a defaultdict, you must first import it by including the line `from collections import defaultdict` **at the top of your program**. Then, to create a defaultdict, you call `defaultdict(<type>)` where type is the data type of the values in the dictionary (the keys can be of any immutable type). When requesting or updating values which haven’t been previously set, rather than raising a KeyError, Python will initialise the value to the “zero value” of that data type (zero for numbers, an empty container for strings, lists, dictionaries etc,.)\n",
    "\n",
    "Defaultdicts are especially useful for counting, as you can increment for each time you see something without worrying about initialising it if it’s the first time you’ve seen that value."
   ]
  },
  {
   "cell_type": "code",
   "execution_count": null,
   "id": "a708a36d",
   "metadata": {},
   "outputs": [],
   "source": [
    "print([word for word in article])"
   ]
  },
  {
   "cell_type": "code",
   "execution_count": null,
   "id": "d99f9eb9",
   "metadata": {},
   "outputs": [],
   "source": [
    "from collections import defaultdict\n",
    "\n",
    "word_count = defaultdict(int)\n",
    "for word in article:\n",
    "    word_count[word] += 1\n",
    "    \n",
    "print(word_count)"
   ]
  },
  {
   "cell_type": "code",
   "execution_count": null,
   "id": "a2927281",
   "metadata": {},
   "outputs": [],
   "source": [
    "word_count = dict()\n",
    "for word in article:\n",
    "    if word not in word_count.keys():\n",
    "        word_count[word] = 1  # initialisation is required\n",
    "    else:\n",
    "        word_count[word] += 1\n",
    "        \n",
    "print(word_count)"
   ]
  },
  {
   "cell_type": "markdown",
   "id": "alien-affect",
   "metadata": {},
   "source": [
    "## Exercise 1. Rewrite the following with a default dictionary"
   ]
  },
  {
   "cell_type": "code",
   "execution_count": 11,
   "id": "9485b427",
   "metadata": {},
   "outputs": [],
   "source": [
    "my_dict = {}\n",
    "for i in range(10):\n",
    "    if i % 3 in my_dict:\n",
    "        my_dict[i % 3].append(i)\n",
    "    else:\n",
    "        my_dict[i % 3] = [i]"
   ]
  },
  {
   "cell_type": "code",
   "execution_count": null,
   "id": "d6d9dad9",
   "metadata": {},
   "outputs": [],
   "source": [
    "# TODO\n"
   ]
  },
  {
   "cell_type": "markdown",
   "id": "6f1fcd9e",
   "metadata": {},
   "source": [
    "## 3. What is a “bug”? What are some debugging strategies which we can use when we find an error?\n",
    "\n",
    "In computing, a bug is an error in code which causes a program to not run as intended. After finding that there is a bug in our program by running **test cases** (discussed later), strategies to fix bugs include tracing code to find sections relevant to the error encountered and using **diagnostic print statements** in these sections to check the value of variables during execution. **Where values are unexpected or code is not running in the way it is supposed to**, we’ve found where the error is and can write new code to fix the problem.\n",
    "\n",
    "## 4. What are the three types of errors we’ve learned about?\n",
    "\n",
    "The three errors are:\n",
    "\n",
    "#### - (1) Syntax error: where the code won’t run due to incorrect use of symbols in the programming language;\n",
    "e.g., The program cannot be compiled.\n",
    "\n",
    "#### - (2) run-time error: where the code runs but a problem is encountered during execution causing the program to crash; and \n",
    "e.g., it can run, but crashes during running.\n",
    "\n",
    "\n",
    "#### - (3) logic error: where the code runs to completion without problem, but the result is not what the developer intended.\n",
    "e.g., it can run, but giving unexpected output.\n",
    "\n",
    "## 5. How can we use testing to find bugs or confirm our code runs properly? What are some strategies we can adopt to write comprehensive test cases for our code?\n",
    "\n",
    "To ensure that code is correct, it is important to run it under a range of scenarios -- **test cases** to ensure that it not only works properly in a specific case, but in all cases. To write test cases, we should think about different possible inputs our code could receive and write test cases to cover as many of them as possible. This does not mean writing a test case for every possible input, rather a test case for each category of input, especially testing any “**corner cases**” which are at the limits of the code’s specification.\n",
    "\n",
    "Some of the major corner cases can be: an empty input, extremely large integer/float, zero integer/float, etc,.\n",
    "\n",
    "\n",
    "\n",
    "## Exercise 2. Find the errors in the following programs, classifying them as (a) syntax, (b) runtime or (c) logic errors. Fix them with a correct line of code."
   ]
  },
  {
   "cell_type": "code",
   "execution_count": null,
   "id": "025da831",
   "metadata": {},
   "outputs": [],
   "source": [
    "def disemvowel(text):\n",
    "    \"\"\" Returns string `text` with all vowels removed \"\"\" \n",
    "    vowels = ('a', 'e', 'i', 'o', 'u')\n",
    "    answer = text[0]\n",
    "    for char in text:\n",
    "        if char.lower() is not in vowels:\n",
    "            answer = char + answer\n",
    "    print(answer)"
   ]
  },
  {
   "cell_type": "code",
   "execution_count": null,
   "id": "07dc36ba",
   "metadata": {},
   "outputs": [],
   "source": [
    "# test cases\n",
    "\n",
    "a = disemvowel('')\n",
    "print(a)\n",
    "\n",
    "a = disemvowel('apple')\n",
    "print(a)"
   ]
  },
  {
   "cell_type": "markdown",
   "id": "d06ccbff",
   "metadata": {},
   "source": [
    "(a) Syntax Error\n",
    "\n",
    "(b) Runtime Error\n",
    "\n",
    "(c) Logic Error"
   ]
  },
  {
   "cell_type": "markdown",
   "id": "1b7af9c4",
   "metadata": {},
   "source": [
    "### Access the remaining exercises here\n",
    "\n",
    "https://mybinder.org/v2/gh/jiyuc/COMP10001_SM1_2022/HEAD"
   ]
  }
 ],
 "metadata": {
  "kernelspec": {
   "display_name": "Python 3",
   "language": "python",
   "name": "python3"
  },
  "language_info": {
   "codemirror_mode": {
    "name": "ipython",
    "version": 3
   },
   "file_extension": ".py",
   "mimetype": "text/x-python",
   "name": "python",
   "nbconvert_exporter": "python",
   "pygments_lexer": "ipython3",
   "version": "3.7.7"
  }
 },
 "nbformat": 4,
 "nbformat_minor": 5
}
