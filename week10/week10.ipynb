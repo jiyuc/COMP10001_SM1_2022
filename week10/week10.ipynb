{
 "cells": [
  {
   "cell_type": "markdown",
   "id": "6b4924d8",
   "metadata": {},
   "source": [
    "## <p style=\"text-align: center\">COMP10001 Foundations of Computing<br>Semester 1, 2022<br>Tutorial Questions: Week 10 </p>\n",
    "### <p style=\"text-align: center\">Tutor: Jiyu Chen  ~ *Freddie* (Temporary Cover for Nefel) </p>\n",
    "\n",
    "<p style=\"text-align: center\"> 3rd Year Ph.D. Candidate, AI - NLP x AI - Digital Health, Unimelb </p>"
   ]
  },
  {
   "cell_type": "markdown",
   "id": "402a2b51",
   "metadata": {},
   "source": [
    "### 1. What is an “iterator”? What are some helpful methods in the `itertools` library?\n",
    "\n",
    "An iterator is an object that keeps track of the traversal of a container. It is used by loops to keep track of iteration through a `list`, `set`, `dictionary`, `tuple` or `string` (these are objects we say are “iterable”). \n",
    "\n",
    "Iterators allow use of the `next(<iterator>)` function to progress to the next item in the iterator, and will raise a `StopIteration` exception if the end is reached. Note that iterators, unlike any container types, can be infinite in length.\n",
    "\n",
    "`itertools` provides many methods to construct iterators. They include **cycle** which produces an iterator to cycle through a container, looping from the end back to the beginning infinitely. **product** will combine two containers into one tuple, with each element from the first one combined with each element from the second. **combinations** will produce a sequence of every possible combination of elements from a container, while **permutations** will include combinations with different pair orderings too. **groupby** will group elements of a container together in particular categories based on a function parameter."
   ]
  },
  {
   "cell_type": "code",
   "execution_count": 1,
   "id": "e3c88f21",
   "metadata": {},
   "outputs": [],
   "source": [
    "import itertools"
   ]
  },
  {
   "cell_type": "code",
   "execution_count": 2,
   "id": "59954022",
   "metadata": {},
   "outputs": [
    {
     "name": "stdout",
     "output_type": "stream",
     "text": [
      "('boots', 1)\n",
      "('boots', 2)\n",
      "('boots', 3)\n",
      "('boots', 4)\n",
      "('and', 1)\n",
      "('and', 2)\n"
     ]
    }
   ],
   "source": [
    "beatboxer = itertools.product(['boots', 'and', 'cats', 'and'], [1, 2, 3, 4])\n",
    "for count in range(6):\n",
    "    print(next(beatboxer))"
   ]
  },
  {
   "cell_type": "code",
   "execution_count": 14,
   "id": "1aeee80d",
   "metadata": {},
   "outputs": [
    {
     "name": "stdout",
     "output_type": "stream",
     "text": [
      "('boots', 'and')\n",
      "('boots', 'cats')\n",
      "('and', 'boots')\n",
      "('and', 'cats')\n",
      "('cats', 'boots')\n",
      "('cats', 'and')\n"
     ]
    }
   ],
   "source": [
    "beatboxer = itertools.permutations(['boots', 'and', 'cats'], 2)\n",
    "for count in range(6):\n",
    "    print(next(beatboxer))"
   ]
  },
  {
   "cell_type": "code",
   "execution_count": 15,
   "id": "f0f48a43",
   "metadata": {},
   "outputs": [
    {
     "name": "stdout",
     "output_type": "stream",
     "text": [
      "('boots', 'and')\n",
      "('boots', 'cats')\n",
      "('and', 'cats')\n"
     ]
    },
    {
     "ename": "StopIteration",
     "evalue": "",
     "output_type": "error",
     "traceback": [
      "\u001b[0;31m---------------------------------------------------------------------------\u001b[0m",
      "\u001b[0;31mStopIteration\u001b[0m                             Traceback (most recent call last)",
      "\u001b[0;32m<ipython-input-15-885023fa98ed>\u001b[0m in \u001b[0;36m<module>\u001b[0;34m\u001b[0m\n\u001b[1;32m      1\u001b[0m \u001b[0mbeatboxer\u001b[0m \u001b[0;34m=\u001b[0m \u001b[0mitertools\u001b[0m\u001b[0;34m.\u001b[0m\u001b[0mcombinations\u001b[0m\u001b[0;34m(\u001b[0m\u001b[0;34m[\u001b[0m\u001b[0;34m'boots'\u001b[0m\u001b[0;34m,\u001b[0m \u001b[0;34m'and'\u001b[0m\u001b[0;34m,\u001b[0m \u001b[0;34m'cats'\u001b[0m\u001b[0;34m]\u001b[0m\u001b[0;34m,\u001b[0m \u001b[0;36m2\u001b[0m\u001b[0;34m)\u001b[0m\u001b[0;34m\u001b[0m\u001b[0;34m\u001b[0m\u001b[0m\n\u001b[1;32m      2\u001b[0m \u001b[0;32mfor\u001b[0m \u001b[0mcount\u001b[0m \u001b[0;32min\u001b[0m \u001b[0mrange\u001b[0m\u001b[0;34m(\u001b[0m\u001b[0;36m6\u001b[0m\u001b[0;34m)\u001b[0m\u001b[0;34m:\u001b[0m\u001b[0;34m\u001b[0m\u001b[0;34m\u001b[0m\u001b[0m\n\u001b[0;32m----> 3\u001b[0;31m     \u001b[0mprint\u001b[0m\u001b[0;34m(\u001b[0m\u001b[0mnext\u001b[0m\u001b[0;34m(\u001b[0m\u001b[0mbeatboxer\u001b[0m\u001b[0;34m)\u001b[0m\u001b[0;34m)\u001b[0m\u001b[0;34m\u001b[0m\u001b[0;34m\u001b[0m\u001b[0m\n\u001b[0m",
      "\u001b[0;31mStopIteration\u001b[0m: "
     ]
    }
   ],
   "source": [
    "beatboxer = itertools.combinations(['boots', 'and', 'cats'], 2)\n",
    "for count in range(6):\n",
    "    print(next(beatboxer))"
   ]
  },
  {
   "cell_type": "markdown",
   "id": "aad7d749",
   "metadata": {},
   "source": [
    "### Exercise 1. What output does the following code print?\n",
    "```\n",
    "beatboxer = itertools.cycle(['boots', 'and', 'cats', 'and'])\n",
    "for count in range(39):\n",
    "    print(next(beatboxer))\n",
    "```"
   ]
  },
  {
   "cell_type": "code",
   "execution_count": 2,
   "id": "53b8d565",
   "metadata": {},
   "outputs": [
    {
     "name": "stdout",
     "output_type": "stream",
     "text": [
      "boots\n",
      "and\n",
      "cats\n",
      "and\n",
      "boots\n",
      "and\n",
      "cats\n",
      "and\n",
      "boots\n",
      "and\n",
      "cats\n",
      "and\n",
      "boots\n",
      "and\n",
      "cats\n",
      "and\n",
      "boots\n",
      "and\n",
      "cats\n",
      "and\n",
      "boots\n",
      "and\n",
      "cats\n",
      "and\n",
      "boots\n",
      "and\n",
      "cats\n",
      "and\n",
      "boots\n",
      "and\n",
      "cats\n",
      "and\n",
      "boots\n",
      "and\n",
      "cats\n",
      "and\n",
      "boots\n",
      "and\n",
      "cats\n"
     ]
    }
   ],
   "source": [
    "import itertools\n",
    "beatboxer = itertools.cycle(['boots', 'and', 'cats', 'and'])\n",
    "for count in range(39):\n",
    "    print(next(beatboxer))"
   ]
  },
  {
   "cell_type": "markdown",
   "id": "35849340",
   "metadata": {},
   "source": [
    "### Project 2"
   ]
  },
  {
   "cell_type": "code",
   "execution_count": null,
   "id": "eecaabda",
   "metadata": {},
   "outputs": [],
   "source": []
  }
 ],
 "metadata": {
  "kernelspec": {
   "display_name": "Python 3",
   "language": "python",
   "name": "python3"
  },
  "language_info": {
   "codemirror_mode": {
    "name": "ipython",
    "version": 3
   },
   "file_extension": ".py",
   "mimetype": "text/x-python",
   "name": "python",
   "nbconvert_exporter": "python",
   "pygments_lexer": "ipython3",
   "version": "3.7.7"
  }
 },
 "nbformat": 4,
 "nbformat_minor": 5
}
