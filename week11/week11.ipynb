{
 "cells": [
  {
   "cell_type": "markdown",
   "id": "922649af",
   "metadata": {},
   "source": [
    "# COMP10001 - Tutorial: A taste of algorithm -- Recursion\n"
   ]
  },
  {
   "cell_type": "markdown",
   "id": "013bf715",
   "metadata": {},
   "source": [
    "### 1. What is “recursion”? What makes a function recursive?\n",
    "\n",
    "Recursion is where a function **calls itself repeatedly** to solve a problem. Rather than using a loop to iterate through a sequence or repeat an action, a recursive function usually calls itself with a **smaller or broken-down version** of the input until it reaches the answer."
   ]
  },
  {
   "cell_type": "code",
   "execution_count": 9,
   "id": "a8a0bfeb",
   "metadata": {},
   "outputs": [
    {
     "name": "stdout",
     "output_type": "stream",
     "text": [
      "[1, 2, 3]\n",
      "[1, 2]\n",
      "[1]\n",
      "[]\n"
     ]
    },
    {
     "data": {
      "text/plain": [
       "False"
      ]
     },
     "execution_count": 9,
     "metadata": {},
     "output_type": "execute_result"
    }
   ],
   "source": [
    "def recursive_func(target, nums):\n",
    "    '''Takes a list of numbers and a target number as input,\n",
    "    find if the target number exist in the list,\n",
    "    return True if it exists. Otherwise, return False.\n",
    "    '''\n",
    "    print(nums)\n",
    "    if not nums:\n",
    "        return False\n",
    "    \n",
    "    if nums.pop() == target:  # \"broken-down\"\n",
    "        return True\n",
    "    \n",
    "    # otherwise, call itself again, with a \"broken-down\" input\n",
    "    return recursive_func(target, nums)\n",
    "\n",
    "recursive_func(5, [1,2,3])"
   ]
  },
  {
   "cell_type": "code",
   "execution_count": null,
   "id": "08ebaeac",
   "metadata": {},
   "outputs": [],
   "source": [
    "1st [1,2,3] 1 - target\n",
    "2nd [2,3] 2 - target\n",
    "3rd [3] 3 - target\n",
    "4th [] return False"
   ]
  },
  {
   "cell_type": "markdown",
   "id": "d7ea21af",
   "metadata": {},
   "source": [
    "### 2. What are the two parts of a recursive function?\n",
    "\n",
    "Recursive functions include a “**recursive case**”, where the function calls itself with a reduced or simpler input; and a “**base case**” where the function has reached the smallest input or simplest version of the problem: it stops recursing and returns an answer."
   ]
  },
  {
   "cell_type": "code",
   "execution_count": null,
   "id": "91cc5452",
   "metadata": {},
   "outputs": [],
   "source": [
    "def recursive_func(target, nums):\n",
    "    '''Takes a list of numbers and a target number as input,\n",
    "    find if the target number exist in the list,\n",
    "    return True if it exists. Otherwise, return False.'''\n",
    "    \n",
    "    \n",
    "    ''''base case'''\n",
    "    if not nums:  # not calling itself, recusion stop\n",
    "        return False\n",
    "    \n",
    "    '''recursive case'''\n",
    "    if nums.pop() == target:  # \"broken-down\"\n",
    "        return True\n",
    "    \n",
    "    return recursive_func(target, nums)  # call itself, recursion\n",
    "\n",
    "\n",
    "\n",
    "recursive_func(5, [1,2,3])"
   ]
  },
  {
   "cell_type": "markdown",
   "id": "9e82b65a",
   "metadata": {},
   "source": [
    "### 3. In what cases is recursion useful? Where should it be used with caution?\n",
    "\n",
    "Recursion is useful where an iterative solution would require **nesting of loops proportionate to the size of the input**, such as the powerset problem or the change problem from lectures. Otherwise, there will often be an equally elegant iterative solution, and since function calls are expensive, it’s often more efficient to use the iterative approach. Some algorithms you will learn about in future subjects depend on recursion, and it can be a powerful technique when trying to sort data.\n",
    "\n",
    "See demonstration in Exercise 1(a)"
   ]
  },
  {
   "cell_type": "markdown",
   "id": "1e3a6cad",
   "metadata": {},
   "source": [
    "### Exercise 1. Study the following mysterious functions. For each one, answer the following questions:\n",
    "\n",
    "#### • Which part is the base case?\n",
    "#### • Which part is the recursive case?\n",
    "#### • What does the function do?"
   ]
  },
  {
   "cell_type": "code",
   "execution_count": null,
   "id": "f0cad75f",
   "metadata": {},
   "outputs": [],
   "source": [
    "def mystery(x):\n",
    "    #print(x)\n",
    "    if len(x) == 1:\n",
    "        return x[0]\n",
    "    else:\n",
    "        y = mystery(x[1:])\n",
    "        \n",
    "        if x[0] > y:\n",
    "            return x[0]\n",
    "        else:\n",
    "            return y\n",
    "\n",
    "mystery([1,2,3,5,4])"
   ]
  },
  {
   "cell_type": "code",
   "execution_count": null,
   "id": "5fd44d50",
   "metadata": {},
   "outputs": [],
   "source": [
    "1st  y [2,3,5,4], x[0] = 1, return 5\n",
    "2nd  y [3,5,4], x[0] = 2, return 5\n",
    "3rd y [5,4], x[0] = 3 return 5\n",
    "4th y [4], x[0] = 5 y = 5\n",
    "5th return 4"
   ]
  },
  {
   "cell_type": "code",
   "execution_count": null,
   "id": "bbd7dfcc",
   "metadata": {},
   "outputs": [],
   "source": [
    "def iter_mystery(x):\n",
    "    for i in range(len(x)):\n",
    "        if i == len(x):\n",
    "            return x[i]\n",
    "        else:\n",
    "            for j in range(i+1, len(x)):\n",
    "                curr = max(x[i], x[j])\n",
    "    return curr"
   ]
  },
  {
   "cell_type": "code",
   "execution_count": null,
   "id": "aa550ee0",
   "metadata": {},
   "outputs": [],
   "source": [
    "def mistero(x):\n",
    "    a = len(x)\n",
    "    if a == 1:\n",
    "        return x[0]\n",
    "    else:\n",
    "        y = mistero(x[a//2:])\n",
    "        z = mistero(x[:a//2])\n",
    "        if z > y:\n",
    "            return z\n",
    "        else:\n",
    "            return y\n",
    "        \n",
    "mistero([1,2,3,4,2,1,5])"
   ]
  },
  {
   "cell_type": "markdown",
   "id": "72476c46",
   "metadata": {},
   "source": [
    "### 4. What is an “algorithm”? Why are algorithms a large area of Computer Science?\n",
    "\n",
    "An algorithm is a set of steps for solving an instance of a particular problem type. They are important in Computing because every time we solve a problem with code, we have written an algorithm to do so. As we deal with more and more data, the **efficiency** of our algorithms becomes important and hence we study how to write them well.\n",
    "\n",
    "You can think of programming and algorithms as literacy and literature. Programming is simply learning how to write code: how to use correct grammar and structure when writing in a programming language so that a computer can understand what we intend to communicate. Studying algorithms is learning about good code: **elegant ways of solving problems** and how to use more **advanced vocabulary to write more powerful coding sentences**."
   ]
  },
  {
   "cell_type": "markdown",
   "id": "331ce9bd",
   "metadata": {},
   "source": [
    "### 5. What are the two criteria with which we can judge algorithms?\n",
    "\n",
    "**(1) Correctness** judges whether an algorithm produces the correct output for each input (eg. Grok green diamonds)\n",
    "\n",
    "**(2) Efficiency** judges how “**good**” an algorithm is. This takes into account aspects such as how quickly it runs (`Time Complexity`), how much storage it demands (`Space Complexity`) and how much processing power it requires. We haven’t looked at this measure in *COMP10001*, but it’s important as you learn more about algorithms.\n",
    "You could have, for example, an algorithm which calculates a correct answer but takes 150 years to do so, or one which finishes in seconds but may not produce the most correct result in all cases."
   ]
  },
  {
   "cell_type": "markdown",
   "id": "581e4e04",
   "metadata": {},
   "source": [
    "### 6. What is the difference between exact and approximate approaches to designing an algorithm? Why might an approximate approach be necessary?\n",
    "\n",
    "**Exact approaches** calculate the solution with a **guarantee of correctness**. \n",
    "\n",
    "**Approximate approaches** **estimate the solution** so may not be as correct.\n",
    "\n",
    "\n",
    "If a problem is too complex to calculate with full completeness (ie. the efficiency of a correct algorithm is very low), it might be worth using an approximate approach to make it feasible to run the algorithm.\n",
    "\n"
   ]
  },
  {
   "cell_type": "markdown",
   "id": "e52620fa",
   "metadata": {},
   "source": [
    "### 7. Identify the following as belonging to the exact or approximate approaches to algorithms, and discuss how they approach solving problems with some examples:\n",
    "\n",
    "#### 1) Brute-Force: \n",
    "exact approach. Finds the solution by enumerating every possible answer and testing them one-by-one. This requires answers to be within a calculable range that allows the program to run to completion: if there are billions of options, it may take years to do this, rendering a brute-force approach useless to that problem. Examples include Linear search and Problem 2 of this tutorial sheet.\n",
    "\n",
    "#### 2) Heuristic Search: \n",
    "approximate approach. Finds a solution by using a more efficient approximate method than one which is completely correct. The answer may not be optimal but is often “close enough” especially when the alternative is a significantly slower algorithm. Examples include finding the closest distance or shortest path to a destination: finding the definitive solution would require processing many possibilities but by looking at the most likely solutions, we can find a rough answer in much less time.\n",
    "\n",
    "#### 3) Simulation: \n",
    "approximate approach. Finds a solution by generating a lot of data to predict an overall trend. One example is simulating the play of a game of chance to test whether it’s worth playing. Many rounds of results can be generated and combined to find whether, on average, money was won or lost. In the real world, the outcome may be different, but by running simulations we can find the most likely outcome. Other examples include modelling movement of objects by using physics formulas and the prediction of weather patterns by running simulations of climate models based on past observations.\n",
    "\n",
    "#### 4) ^Divide and Conquer: \n",
    "exact approach. Finds a solution by dividing the problem into a set of smaller sub-problems which can be more easily solved, then combining the solutions of those sub-problems to find the answer of the overall problem. Examples include binary search and many sorting algorithms. The idea behind Divide and Conquer based sorting algorithms is that they may, for example, sort each half of a list separately before combining them, leading to a faster solution than sorting the whole list at once."
   ]
  },
  {
   "cell_type": "markdown",
   "id": "2f0b2948",
   "metadata": {},
   "source": [
    "### Exercise 2. Search the following sorted lists for the number 8, using (a) Linear search (Brute-Force approach) and (b) Binary search (Divide and Conquer approach)\n",
    "\n",
    "(1) `[1, 2, 4, 5, 8, 9, 10, 12, 15, 19, 21, 23, 25]`\n",
    "\n",
    "(2) `[8, 9, 11, 15, 16, 17, 22, 24, 27, 28, 29, 32, 33]`\n",
    "\n",
    "(3) `[2, 4, 5, 6, 7, 9, 11, 12, 13, 15, 19, 22, 25]`"
   ]
  },
  {
   "cell_type": "code",
   "execution_count": null,
   "id": "1440ff1a",
   "metadata": {},
   "outputs": [],
   "source": [
    "random: 10 < go left\n",
    "random: 5 > go right\n",
    "    \n",
    "random 8 == target, return True\n",
    "random [], \n",
    "    "
   ]
  },
  {
   "cell_type": "code",
   "execution_count": 26,
   "id": "cee8460e",
   "metadata": {},
   "outputs": [],
   "source": [
    "def binary_search(nums, target):\n",
    "    # TODO\n",
    "    \n",
    "    #concque\n",
    "    if not nums:\n",
    "        return False\n",
    "    \n",
    "    mid = len(nums)//2\n",
    "    \n",
    "    if nums[mid] == target:\n",
    "        return true\n",
    "    \n",
    "    \n",
    "    elif nums[mid] > target:  # divide\n",
    "        return binary_search(nums[:mid], target)\n",
    "    elif nums[mid] < target:\n",
    "        return binary_search[nums[mid+1:], target]\n",
    "    \n",
    "    "
   ]
  },
  {
   "cell_type": "code",
   "execution_count": 30,
   "id": "557e290e",
   "metadata": {},
   "outputs": [
    {
     "data": {
      "text/plain": [
       "False"
      ]
     },
     "execution_count": 30,
     "metadata": {},
     "output_type": "execute_result"
    }
   ],
   "source": [
    "nums = [1, 2, 4, 5, 8, 9, 10, 12, 15, 19, 21, 23, 25]\n",
    "target = 18\n",
    "binary_search(nums, target)"
   ]
  }
 ],
 "metadata": {
  "kernelspec": {
   "display_name": "Python 3",
   "language": "python",
   "name": "python3"
  },
  "language_info": {
   "codemirror_mode": {
    "name": "ipython",
    "version": 3
   },
   "file_extension": ".py",
   "mimetype": "text/x-python",
   "name": "python",
   "nbconvert_exporter": "python",
   "pygments_lexer": "ipython3",
   "version": "3.7.7"
  }
 },
 "nbformat": 4,
 "nbformat_minor": 5
}
