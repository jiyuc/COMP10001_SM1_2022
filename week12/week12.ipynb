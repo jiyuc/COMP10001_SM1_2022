{
 "cells": [
  {
   "cell_type": "markdown",
   "id": "d6092e66",
   "metadata": {},
   "source": [
    "### 1. What are some of the (numeric) bases we can store numbers with? How can we convert between bases in Python?\n",
    "\n",
    "As humans, we usually use **decimal numbers** (base 10). This means counting using ten different digits. Other bases which we can store numbers with include base 2 (**binary numbers**, two digits); base 8 (**octal numbers**, eight digits); and base 16 (**hexadecimal numbers**, sixteen digits). We can convert to binary, octal and hexadecimal by using the `bin()`, `oct()` and `hex()` functions respectively. Converting to a decimal number can be done using the `int(num, base)` function, where num is a string containing the number to be converted to decimal and base is the base to be converted from. Writing binary, octal and hexadecimal numbers as numerical literals can be achieved by putting 0b, 0o and 0x respectively before the number (and then they can be entered directly into the `int()` function without specifying a base.)"
   ]
  },
  {
   "cell_type": "code",
   "execution_count": 2,
   "id": "9ed4132e",
   "metadata": {},
   "outputs": [
    {
     "name": "stdout",
     "output_type": "stream",
     "text": [
      "3 63 16\n"
     ]
    }
   ],
   "source": [
    "binary_num = 0b011\n",
    "oct_num = 0o077\n",
    "hex_num = 0x010\n",
    "\n",
    "print(int(binary_num), int(oct_num), int(hex_num))"
   ]
  },
  {
   "cell_type": "markdown",
   "id": "4d7d6101",
   "metadata": {},
   "source": [
    "### 2. Why are binary and hexadecimal convenient for computers? Why is decimal more difficult?\n",
    "\n",
    "Binary numbers are good for computers because they store data in a binary format and **processors handle binary values to make calculations**. That’s why computer storage is measured in “**bits**” or “**bytes**”. \n",
    "\n",
    "`1 byte == 8 bits`\n",
    "\n",
    "\n",
    "\n",
    "So binary is a computer’s “native” type like decimal is ours. Hexadecimal is good since **one hex character can be stored with exactly four bits** (00002 = 016,00012 = 116...11102 = E16,11112 = F16). Decimal is more difficult because to use decimal values, computers must convert them to and from a binary representation and sometimes that conversion isn’t exact, resulting in numbers which contain rounding errors or other inconsistencies.\n",
    "\n",
    "`1 hex character can be stored with 4 bits`"
   ]
  },
  {
   "cell_type": "markdown",
   "id": "62ddb424",
   "metadata": {},
   "source": [
    "### 3. What is “Unicode”? What problems does it solve?\n",
    "\n",
    "Unicode is a standard for **text encoding**, which assigns every text character in every language of the world to a “code point value” which can be used in encoded text to represent that character. Unicode solves the problem that in the past, different languages had their own encoding standards, which prevented multiple languages from appearing in the same document. Unicode contains all of the world’s graphemes in the same standard, allowing documents to be written containing any combination of them.\n",
    "\n",
    "\n"
   ]
  },
  {
   "cell_type": "code",
   "execution_count": 15,
   "id": "343cad14",
   "metadata": {},
   "outputs": [
    {
     "name": "stdout",
     "output_type": "stream",
     "text": [
      "65\n",
      "129299\n",
      "25991\n"
     ]
    }
   ],
   "source": [
    "print(ord('A'))\n",
    "print(ord('🤓'))\n",
    "print(ord('文'))"
   ]
  },
  {
   "cell_type": "code",
   "execution_count": 13,
   "id": "9e36e45c",
   "metadata": {},
   "outputs": [
    {
     "name": "stdout",
     "output_type": "stream",
     "text": [
      "A\n",
      "🤓\n",
      "文\n"
     ]
    }
   ],
   "source": [
    "print(chr(65))\n",
    "print(chr(129299))\n",
    "print(chr(25991))"
   ]
  },
  {
   "cell_type": "markdown",
   "id": "809fff11",
   "metadata": {},
   "source": [
    "### 4. What are some encodings which we can use to represent text?\n",
    "\n",
    "To represent Unicode characters in text, we have to choose a “text encoding”.\n",
    "\n",
    "\n",
    "**ASCII** (American Standard Code for Information Interchange) is the most basic such encoding, storing each character in a “code unit” which is seven bits long. This allows only 128 characters to be represented, but that is more than enough for the English language. One code unit also fits nicely into a single byte.\n",
    "In ASCII, characters are usually stored using a whole byte which leaves one redundant bit (each code unit is composed of seven information bits). \n",
    "\n",
    "\n",
    "**The ISO-8859** encoding adds an extra 128 characters to ASCII by allowing the use of an eighth bit to store information too. The code unit is eight bits long.\n",
    "\n",
    "**UTF-32** (Unicode Transformation Format 32-bit) is another constant-width encoding, where each character is stored in a code unit of 32-bits (4 bytes). This allows many more characters to be stored, but has the downside of requiring a lot of space.\n",
    "\n",
    "\n",
    "**UTF-8** and **UTF-16** are “variable-width” encodings. UTF-8 stores each character in a code unit of between one and four bytes of information, depending on how much space is needed for it. UTF-16 uses one or two 16-bit code units per code point."
   ]
  },
  {
   "cell_type": "markdown",
   "id": "93387c4f",
   "metadata": {},
   "source": [
    "### Exercise 1. Convert the following binary numbers into hexadecimal.\n",
    "(a) Convert the binary number `0b1011100` to hexadecimal by filling in the boxes in the following diagram with a single digit:\n",
    "<img src=\"q1.png\" width=300 height=300 />\n",
    "\n",
    "\n",
    "(b) Convert the binary number `0b111101001` into hexadecimal using a method like the one shown above."
   ]
  },
  {
   "cell_type": "markdown",
   "id": "6fc779dc",
   "metadata": {},
   "source": [
    "### 5. Revise some of the points in the ACM (Association for Computing Machinery) Code of Ethics and Professional Conduct. Why is it important to consider Ethics when studying computing?\n",
    "\n",
    "1. Contribute to society and to human well-being, acknowledging that all people are stakeholders in computing\n",
    "2. Avoid harm\n",
    "3. Be honest and trustworthy\n",
    "4. Be fair and take action not to discriminate\n",
    "5. Respect the work required to produce new ideas, inventions, creative works, and computing artefacts\n",
    "6. Respect privacy\n",
    "7. Honour confidentiality. Knowledge of programming augments human abilities, allowing people to deploy systems at scale and change the world in both small and large ways. If used for nefarious aims, computing can be dangerous and damaging."
   ]
  },
  {
   "cell_type": "markdown",
   "id": "35eb40a9",
   "metadata": {},
   "source": [
    "### 6. What does “dual use” refer to in the context of computing?\n",
    "\n",
    "Dual use refers to technologies which can be equally used for `good` and `malicious` purposes. Many implementations of artificial intelligence and automation can be classified as dual use."
   ]
  },
  {
   "cell_type": "markdown",
   "id": "a8eb2d33",
   "metadata": {},
   "source": [
    "## Previous Exam Questions\n",
    "\n",
    "### 1. Use the following operations to write a single expression which evaluates to the prescribed output. There should be no redundant operations, i.e., removing any required operation should change the functionality:\n",
    "\n",
    "(b) Output = `True`\n",
    "\n",
    "    • `set()` function\n",
    "    \n",
    "    • List concatenation"
   ]
  },
  {
   "cell_type": "markdown",
   "id": "eff542de",
   "metadata": {},
   "source": [
    "### 2. The following function is meant to take an integer num and decompose it into k-digit sub-sequences (noting that the first integer could be made up of less than k digits), map each sub-sequence back into a character based on its ASCII value (65 = 'A', 66 = 'B'...) and compose the characters into a string. The following is an example function call which illustrates its intended behaviour:\n",
    "```\n",
    " def num2txt(num, k=3):\n",
    "    numstr = str(num)\n",
    "    txt = \"\"\n",
    "    mismatch = numstr % k\n",
    "    if mismatch:\n",
    "        numstr = \"0\" * (k - mismatch)\n",
    "        start == 0\n",
    "        for end in range(k, len(numstr)+1, k):\n",
    "            txt += chr(int(numstr[start;end]))\n",
    "            start = end\n",
    "        return txt\n",
    "```"
   ]
  },
  {
   "cell_type": "code",
   "execution_count": null,
   "id": "00fa7efc",
   "metadata": {},
   "outputs": [],
   "source": []
  }
 ],
 "metadata": {
  "kernelspec": {
   "display_name": "Python 3",
   "language": "python",
   "name": "python3"
  },
  "language_info": {
   "codemirror_mode": {
    "name": "ipython",
    "version": 3
   },
   "file_extension": ".py",
   "mimetype": "text/x-python",
   "name": "python",
   "nbconvert_exporter": "python",
   "pygments_lexer": "ipython3",
   "version": "3.7.7"
  }
 },
 "nbformat": 4,
 "nbformat_minor": 5
}
